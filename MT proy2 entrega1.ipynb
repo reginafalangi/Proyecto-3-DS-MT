{
 "cells": [
  {
   "cell_type": "markdown",
   "metadata": {
    "id": "Y6amhhzZm5OH"
   },
   "source": [
    "# Consigna\n",
    "\n",
    "En este proyecto profundizarás lo desarrollado en el proyecto 01. El objetivo es aplicar las técnicas incorporadas.(Transformación de Datos, Optimización de Hiperparámetros, Modelos Avanzados, etc.) para generar un modelo que tenga un mejor desempeño que el modelo generado en el proyecto anterior. Luego, interpreta ese modelo para responder la siguiente pregunta: ¿qué podemos aprender de nuestro problema estudiando el modelo que generamos?\n",
    "\n",
    "#El trabajo se organiza en tres partes:\n",
    "\n",
    "# PARTE A - Transformación de Datos\n",
    "\n",
    "Elige cuáles de las siguientes tareas son apropiadas para su dataset. Implementa las transformaciones que elegiste. Es importante que justifiques por qué las haces:\n",
    "\n",
    "- Detección y eliminación de Outliers\n",
    "- Encoding\n",
    "- Imputación de valores faltantes\n",
    "- Escalado de datos\n",
    "- Generación de nuevas variables predictoras/reducción de dimensionalidad (SVD/PCA).\n",
    "\n",
    "Vuelve a entrenar el modelo implementado en la Entrega 01 - en particular, **el árbol de decisión** - con este nuevo dataset transformado. **Evalúa su desempeño a partir del dataset obtenido luego de transformar los datos**. ¿Hay una mejora en su desempeño? *Compara con el desempeño obtenido en el proyecto 01. Sea cual sea la respuesta, intenta explicar a qué se debe.*\n",
    "\n",
    "# PARTE B - Modelos Avanzados\n",
    "\n",
    "1. Elige dos de los modelos avanzados vistos Compara con el desempeño obtenido en el proyecto 01 (en el caso de regresión, considera una regresión lineal con atributos polinómicos y regularización). Entrénalos y evalúalos con sus argumentos por defecto. No te olvides de hacer un train/test split y usar Validación Cruzada.\n",
    "2. Optimiza sus hiperparámetros mediante Validación Cruzada y Grid Search o Random Search.\n",
    "3. Compara el desempeño de los nuevos modelos entre sí y con el modelo de la Parte A. ¿Cuál elegirías? Justifica.\n",
    "\n",
    "# PARTE C - Interpretación de modelos\n",
    "\n",
    "De acuerdo a lo que el modelo permite, responde algunas o todas las siguientes preguntas:\n",
    "\n",
    "- ¿Qué variables fueron relevantes para el modelo para hacer una predicción? ¿Cuáles no? Si usaste una regresión lineal con regularización, presta atención a los parámetros (pendientes) obtenidas. Si usaste un modelo de ensamble en árboles, además de ver la importancia de cada atributo, también elige algunos árboles al azar y observa qué atributos considera importantes. ¿En qué se diferencian esos árboles? ¿Por qué? Finalmente, responde, ¿coincide con lo que esperabas a partir de tu experiencia con este dataset?\n",
    "- ¿Cómo es la distribución de errores (regresión) o qué clases se confunden entre sí (clasificación)? ¿Dónde falla? ¿A qué se debe?\n",
    "\n",
    "# DESAFÍO OPCIONAL\n",
    "\n",
    "Aplica una técnica de Clustering sobre el dataset. Puedes combinar con técnicas de reducción de dimensionalidad para facilitar la visualización. ¿Qué clusters encuentras? ¿A qué pueden corresponder? Te dejamos preguntas que pueden servir como disparadoras: ¿qué barrios se parecen más entre sí?¿qué tipos de propiedades se parecen más entre sí?"
   ]
  },
  {
   "cell_type": "code",
   "execution_count": 1,
   "metadata": {
    "colab": {
     "base_uri": "https://localhost:8080/",
     "height": 72,
     "resources": {
      "http://localhost:8080/nbextensions/google.colab/files.js": {
       "data": "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",
       "headers": [
        [
         "content-type",
         "application/javascript"
        ]
       ],
       "ok": true,
       "status": 200,
       "status_text": ""
      }
     }
    },
    "id": "pJe-HKhJlM21",
    "outputId": "a5bd6d00-a674-4476-ac3c-8043cb73c8dc"
   },
   "outputs": [],
   "source": [
    "import numpy as np\n",
    "import pandas as pd\n",
    "import matplotlib.pyplot as plt\n",
    "import seaborn as sns\n",
    "\n",
    "from sklearn.tree import DecisionTreeClassifier\n",
    "from sklearn.metrics import accuracy_score\n",
    "from sklearn import tree\n",
    "from sklearn.model_selection import train_test_split\n",
    "from sklearn.linear_model import LinearRegression\n",
    "from sklearn.tree import DecisionTreeRegressor\n",
    "from sklearn.neighbors import KNeighborsRegressor\n",
    "from sklearn.metrics import mean_squared_error\n",
    "from sklearn.preprocessing import OneHotEncoder\n",
    "from sklearn.decomposition import TruncatedSVD\n",
    "from sklearn.decomposition import PCA\n"
   ]
  },
  {
   "cell_type": "code",
   "execution_count": 2,
   "metadata": {
    "colab": {
     "base_uri": "https://localhost:8080/",
     "height": 530
    },
    "id": "aWDyD1QAlM3A",
    "outputId": "9706aed1-47d6-4324-8791-dd0b22107c5e"
   },
   "outputs": [
    {
     "data": {
      "text/html": [
       "<div>\n",
       "<style scoped>\n",
       "    .dataframe tbody tr th:only-of-type {\n",
       "        vertical-align: middle;\n",
       "    }\n",
       "\n",
       "    .dataframe tbody tr th {\n",
       "        vertical-align: top;\n",
       "    }\n",
       "\n",
       "    .dataframe thead th {\n",
       "        text-align: right;\n",
       "    }\n",
       "</style>\n",
       "<table border=\"1\" class=\"dataframe\">\n",
       "  <thead>\n",
       "    <tr style=\"text-align: right;\">\n",
       "      <th></th>\n",
       "      <th>start_date</th>\n",
       "      <th>end_date</th>\n",
       "      <th>created_on</th>\n",
       "      <th>lat</th>\n",
       "      <th>lon</th>\n",
       "      <th>l1</th>\n",
       "      <th>l2</th>\n",
       "      <th>l3</th>\n",
       "      <th>rooms</th>\n",
       "      <th>bedrooms</th>\n",
       "      <th>bathrooms</th>\n",
       "      <th>surface_total</th>\n",
       "      <th>surface_covered</th>\n",
       "      <th>price</th>\n",
       "      <th>currency</th>\n",
       "      <th>title</th>\n",
       "      <th>description</th>\n",
       "      <th>property_type</th>\n",
       "      <th>operation_type</th>\n",
       "    </tr>\n",
       "  </thead>\n",
       "  <tbody>\n",
       "    <tr>\n",
       "      <th>0</th>\n",
       "      <td>2019-10-17</td>\n",
       "      <td>2019-12-23</td>\n",
       "      <td>2019-10-17</td>\n",
       "      <td>-34.605880</td>\n",
       "      <td>-58.384949</td>\n",
       "      <td>Argentina</td>\n",
       "      <td>Capital Federal</td>\n",
       "      <td>San Cristobal</td>\n",
       "      <td>7.0</td>\n",
       "      <td>7.0</td>\n",
       "      <td>2.0</td>\n",
       "      <td>140.0</td>\n",
       "      <td>140.0</td>\n",
       "      <td>153000.0</td>\n",
       "      <td>USD</td>\n",
       "      <td>***Venta semipiso centro, ideal hostel*****</td>\n",
       "      <td>DESCRIPCION DE LA PROPIEDAD: Departamento de 1...</td>\n",
       "      <td>Departamento</td>\n",
       "      <td>Venta</td>\n",
       "    </tr>\n",
       "    <tr>\n",
       "      <th>1</th>\n",
       "      <td>2019-10-17</td>\n",
       "      <td>2019-11-21</td>\n",
       "      <td>2019-10-17</td>\n",
       "      <td>-34.624056</td>\n",
       "      <td>-58.412110</td>\n",
       "      <td>Argentina</td>\n",
       "      <td>Capital Federal</td>\n",
       "      <td>Boedo</td>\n",
       "      <td>2.0</td>\n",
       "      <td>1.0</td>\n",
       "      <td>2.0</td>\n",
       "      <td>70.0</td>\n",
       "      <td>58.0</td>\n",
       "      <td>159000.0</td>\n",
       "      <td>USD</td>\n",
       "      <td>Espectacular PH reciclado en Boedo sin expensas.</td>\n",
       "      <td>PH reciclado en Boedo a una cuadra de la plaz...</td>\n",
       "      <td>PH</td>\n",
       "      <td>Venta</td>\n",
       "    </tr>\n",
       "    <tr>\n",
       "      <th>2</th>\n",
       "      <td>2019-10-17</td>\n",
       "      <td>2019-11-01</td>\n",
       "      <td>2019-10-17</td>\n",
       "      <td>-34.593569</td>\n",
       "      <td>-58.427474</td>\n",
       "      <td>Argentina</td>\n",
       "      <td>Capital Federal</td>\n",
       "      <td>Palermo</td>\n",
       "      <td>2.0</td>\n",
       "      <td>1.0</td>\n",
       "      <td>1.0</td>\n",
       "      <td>45.0</td>\n",
       "      <td>45.0</td>\n",
       "      <td>125000.0</td>\n",
       "      <td>USD</td>\n",
       "      <td>Depto.tipo casa de 2 ambientes en Venta en Pal...</td>\n",
       "      <td>2 ambienets amplio , excelente estado , patio ...</td>\n",
       "      <td>PH</td>\n",
       "      <td>Venta</td>\n",
       "    </tr>\n",
       "    <tr>\n",
       "      <th>3</th>\n",
       "      <td>2019-10-17</td>\n",
       "      <td>2019-12-23</td>\n",
       "      <td>2019-10-17</td>\n",
       "      <td>-34.581294</td>\n",
       "      <td>-58.436754</td>\n",
       "      <td>Argentina</td>\n",
       "      <td>Capital Federal</td>\n",
       "      <td>Palermo</td>\n",
       "      <td>2.0</td>\n",
       "      <td>1.0</td>\n",
       "      <td>1.0</td>\n",
       "      <td>85.0</td>\n",
       "      <td>50.0</td>\n",
       "      <td>295000.0</td>\n",
       "      <td>USD</td>\n",
       "      <td>COSTA RICA 5800 / PALERMO HOLLYWOOD / VENTA PH...</td>\n",
       "      <td>HERMOSO PH EN PALERMO!!!2 AMBIENTES TOTALMENTE...</td>\n",
       "      <td>PH</td>\n",
       "      <td>Venta</td>\n",
       "    </tr>\n",
       "    <tr>\n",
       "      <th>4</th>\n",
       "      <td>2019-10-17</td>\n",
       "      <td>2020-03-11</td>\n",
       "      <td>2019-10-17</td>\n",
       "      <td>-34.914194</td>\n",
       "      <td>-57.938219</td>\n",
       "      <td>Argentina</td>\n",
       "      <td>Bs.As. G.B.A. Zona Sur</td>\n",
       "      <td>La Plata</td>\n",
       "      <td>2.0</td>\n",
       "      <td>1.0</td>\n",
       "      <td>1.0</td>\n",
       "      <td>50.0</td>\n",
       "      <td>35.0</td>\n",
       "      <td>40000.0</td>\n",
       "      <td>USD</td>\n",
       "      <td>58 entre 1 y 2  Venta de departamento en ph.1 ...</td>\n",
       "      <td>58 entre 1 y 2  Venta de departamento en PH. P...</td>\n",
       "      <td>PH</td>\n",
       "      <td>Venta</td>\n",
       "    </tr>\n",
       "  </tbody>\n",
       "</table>\n",
       "</div>"
      ],
      "text/plain": [
       "   start_date    end_date  created_on        lat        lon         l1  \\\n",
       "0  2019-10-17  2019-12-23  2019-10-17 -34.605880 -58.384949  Argentina   \n",
       "1  2019-10-17  2019-11-21  2019-10-17 -34.624056 -58.412110  Argentina   \n",
       "2  2019-10-17  2019-11-01  2019-10-17 -34.593569 -58.427474  Argentina   \n",
       "3  2019-10-17  2019-12-23  2019-10-17 -34.581294 -58.436754  Argentina   \n",
       "4  2019-10-17  2020-03-11  2019-10-17 -34.914194 -57.938219  Argentina   \n",
       "\n",
       "                       l2             l3  rooms  bedrooms  bathrooms  \\\n",
       "0         Capital Federal  San Cristobal    7.0       7.0        2.0   \n",
       "1         Capital Federal          Boedo    2.0       1.0        2.0   \n",
       "2         Capital Federal        Palermo    2.0       1.0        1.0   \n",
       "3         Capital Federal        Palermo    2.0       1.0        1.0   \n",
       "4  Bs.As. G.B.A. Zona Sur       La Plata    2.0       1.0        1.0   \n",
       "\n",
       "   surface_total  surface_covered     price currency  \\\n",
       "0          140.0            140.0  153000.0      USD   \n",
       "1           70.0             58.0  159000.0      USD   \n",
       "2           45.0             45.0  125000.0      USD   \n",
       "3           85.0             50.0  295000.0      USD   \n",
       "4           50.0             35.0   40000.0      USD   \n",
       "\n",
       "                                               title  \\\n",
       "0        ***Venta semipiso centro, ideal hostel*****   \n",
       "1   Espectacular PH reciclado en Boedo sin expensas.   \n",
       "2  Depto.tipo casa de 2 ambientes en Venta en Pal...   \n",
       "3  COSTA RICA 5800 / PALERMO HOLLYWOOD / VENTA PH...   \n",
       "4  58 entre 1 y 2  Venta de departamento en ph.1 ...   \n",
       "\n",
       "                                         description property_type  \\\n",
       "0  DESCRIPCION DE LA PROPIEDAD: Departamento de 1...  Departamento   \n",
       "1   PH reciclado en Boedo a una cuadra de la plaz...            PH   \n",
       "2  2 ambienets amplio , excelente estado , patio ...            PH   \n",
       "3  HERMOSO PH EN PALERMO!!!2 AMBIENTES TOTALMENTE...            PH   \n",
       "4  58 entre 1 y 2  Venta de departamento en PH. P...            PH   \n",
       "\n",
       "  operation_type  \n",
       "0          Venta  \n",
       "1          Venta  \n",
       "2          Venta  \n",
       "3          Venta  \n",
       "4          Venta  "
      ]
     },
     "execution_count": 2,
     "metadata": {},
     "output_type": "execute_result"
    }
   ],
   "source": [
    "prop_data = pd.read_csv('DS_Proyecto_01_Datos_Properati.csv')\n",
    "prop_data.head()\n"
   ]
  },
  {
   "cell_type": "markdown",
   "metadata": {},
   "source": [
    "# PARTE A - Transformación de Datos\n",
    "\n",
    "Elige cuáles de las siguientes tareas son apropiadas para su dataset. Implementa las transformaciones que elegiste. Es importante que justifiques por qué las haces:\n",
    "\n",
    "- Detección y eliminación de Outliers\n",
    "- Encoding\n",
    "- Imputación de valores faltantes\n",
    "- Escalado de datos\n",
    "- Generación de nuevas variables predictoras/reducción de dimensionalidad (SVD/PCA)."
   ]
  },
  {
   "cell_type": "code",
   "execution_count": 3,
   "metadata": {
    "colab": {
     "base_uri": "https://localhost:8080/"
    },
    "id": "_DBFdK5XzBn7",
    "outputId": "ffdb1b21-7af5-4dcd-cec1-480b7a84b63a"
   },
   "outputs": [
    {
     "data": {
      "text/plain": [
       "(146660, 19)"
      ]
     },
     "execution_count": 3,
     "metadata": {},
     "output_type": "execute_result"
    }
   ],
   "source": [
    "#comenzamos con esta cantida de instancias\n",
    "prop_data.shape"
   ]
  },
  {
   "cell_type": "markdown",
   "metadata": {
    "id": "g0ikiaol21UP"
   },
   "source": [
    "Filtro del dataset"
   ]
  },
  {
   "cell_type": "code",
   "execution_count": 4,
   "metadata": {},
   "outputs": [
    {
     "data": {
      "text/plain": [
       "(92539, 19)"
      ]
     },
     "execution_count": 4,
     "metadata": {},
     "output_type": "execute_result"
    }
   ],
   "source": [
    "CABA1=prop_data[prop_data.l2=='Capital Federal']\n",
    "CABA1.shape"
   ]
  },
  {
   "cell_type": "code",
   "execution_count": 5,
   "metadata": {},
   "outputs": [
    {
     "data": {
      "text/plain": [
       "(92539, 18)"
      ]
     },
     "execution_count": 5,
     "metadata": {},
     "output_type": "execute_result"
    }
   ],
   "source": [
    "CABA_idx=CABA1.set_index('property_type')\n",
    "CABA_idx.shape"
   ]
  },
  {
   "cell_type": "code",
   "execution_count": 6,
   "metadata": {},
   "outputs": [
    {
     "data": {
      "text/plain": [
       "(91485, 18)"
      ]
     },
     "execution_count": 6,
     "metadata": {},
     "output_type": "execute_result"
    }
   ],
   "source": [
    "capfed=CABA_idx.loc[['Departamento','PH','Casa']]\n",
    "capfed.shape"
   ]
  },
  {
   "cell_type": "code",
   "execution_count": 7,
   "metadata": {},
   "outputs": [
    {
     "data": {
      "text/plain": [
       "(91485, 19)"
      ]
     },
     "execution_count": 7,
     "metadata": {},
     "output_type": "execute_result"
    }
   ],
   "source": [
    "capfed.reset_index(level=0,inplace=True)\n",
    "capfed.shape"
   ]
  },
  {
   "cell_type": "code",
   "execution_count": 8,
   "metadata": {
    "id": "Q_n1fakTsIda"
   },
   "outputs": [],
   "source": [
    "#Filtramos zona y tipo de propiedad con mayor cantidad de propiedades\n",
    "#ciudad_donde_hay_mas_propiedades = prop_data.l2.value_counts().idxmax()\n",
    "#property_type_max = list(prop_data.property_type.value_counts().nlargest(3).index)"
   ]
  },
  {
   "cell_type": "code",
   "execution_count": 9,
   "metadata": {
    "colab": {
     "base_uri": "https://localhost:8080/"
    },
    "id": "bYgNvE4atssT",
    "outputId": "9a7763ac-978b-48aa-fc5a-67da91310dd4"
   },
   "outputs": [],
   "source": [
    "#Filtramos zonas con mas propiedades y tipos de propiedades mas repetidas\n",
    "#capfed=prop_data[prop_data.l2.isin([ciudad_donde_hay_mas_propiedades]) & prop_data.property_type.isin(property_type_max)]\n",
    "#capfed.shape\n"
   ]
  },
  {
   "cell_type": "code",
   "execution_count": 10,
   "metadata": {},
   "outputs": [
    {
     "data": {
      "text/plain": [
       "Departamento    79029\n",
       "PH               9764\n",
       "Casa             2692\n",
       "Name: property_type, dtype: int64"
      ]
     },
     "execution_count": 10,
     "metadata": {},
     "output_type": "execute_result"
    }
   ],
   "source": [
    "#quiero entender como quedan las proporciones de mi dataset\n",
    "capfed.property_type.value_counts()"
   ]
  },
  {
   "cell_type": "code",
   "execution_count": 11,
   "metadata": {
    "colab": {
     "base_uri": "https://localhost:8080/"
    },
    "id": "MKLBoH66xk04",
    "outputId": "c7a5a2cf-d939-4ee1-9b45-57e7d5f3e9d9"
   },
   "outputs": [
    {
     "name": "stdout",
     "output_type": "stream",
     "text": [
      "filas duplicadas (1611, 19)\n"
     ]
    }
   ],
   "source": [
    "#identificar duplicados\n",
    "duplicates=capfed[capfed.duplicated()]\n",
    "print('filas duplicadas',duplicates.shape)"
   ]
  },
  {
   "cell_type": "markdown",
   "metadata": {},
   "source": [
    "Eliminacion de duplicados"
   ]
  },
  {
   "cell_type": "code",
   "execution_count": 12,
   "metadata": {
    "colab": {
     "base_uri": "https://localhost:8080/",
     "height": 181
    },
    "id": "HVYXKU5Wxp4a",
    "outputId": "66ced62f-894e-4eef-e8f4-36fe43a2123f"
   },
   "outputs": [],
   "source": [
    "capfed= capfed.drop_duplicates()"
   ]
  },
  {
   "cell_type": "code",
   "execution_count": 13,
   "metadata": {},
   "outputs": [
    {
     "data": {
      "text/plain": [
       "(89874, 19)"
      ]
     },
     "execution_count": 13,
     "metadata": {},
     "output_type": "execute_result"
    }
   ],
   "source": [
    "capfed.shape"
   ]
  },
  {
   "cell_type": "code",
   "execution_count": 14,
   "metadata": {},
   "outputs": [],
   "source": [
    "capfed.drop(capfed.loc[capfed['surface_covered']>capfed['surface_total']].index,inplace=True,axis=0)"
   ]
  },
  {
   "cell_type": "code",
   "execution_count": 15,
   "metadata": {
    "id": "z1kCa4SNx3u3"
   },
   "outputs": [
    {
     "data": {
      "text/plain": [
       "(89114, 19)"
      ]
     },
     "execution_count": 15,
     "metadata": {},
     "output_type": "execute_result"
    }
   ],
   "source": [
    "#instancias del data set hasta el momento \n",
    "capfed.shape"
   ]
  },
  {
   "cell_type": "code",
   "execution_count": 16,
   "metadata": {},
   "outputs": [
    {
     "data": {
      "text/plain": [
       "(89114, 8)"
      ]
     },
     "execution_count": 16,
     "metadata": {},
     "output_type": "execute_result"
    }
   ],
   "source": [
    "#nos quedamsos solo con las columnas que usaremos\n",
    "capfed=capfed.loc[:, ['rooms', 'bedrooms', 'bathrooms', 'surface_total', 'surface_covered', 'price', 'l3','property_type']]\n",
    "capfed.shape"
   ]
  },
  {
   "cell_type": "code",
   "execution_count": 17,
   "metadata": {
    "colab": {
     "base_uri": "https://localhost:8080/"
    },
    "id": "VUvHUXRZlM3F",
    "outputId": "bf248f42-9e8e-493d-871e-7a512c5b51d1"
   },
   "outputs": [
    {
     "data": {
      "text/plain": [
       "rooms                 0\n",
       "bedrooms              0\n",
       "bathrooms          2139\n",
       "surface_total      8717\n",
       "surface_covered    9024\n",
       "price                 0\n",
       "l3                    0\n",
       "property_type         0\n",
       "dtype: int64"
      ]
     },
     "execution_count": 17,
     "metadata": {},
     "output_type": "execute_result"
    }
   ],
   "source": [
    "#entendemos cuantos datos faltantes hay en el filtro aplicado\n",
    "capfed.isna().sum()"
   ]
  },
  {
   "cell_type": "code",
   "execution_count": 18,
   "metadata": {
    "colab": {
     "base_uri": "https://localhost:8080/",
     "height": 297
    },
    "id": "NkktfuuulM3G",
    "outputId": "2950ee09-2f1b-46d8-8f48-afb3ab964142"
   },
   "outputs": [
    {
     "data": {
      "text/html": [
       "<div>\n",
       "<style scoped>\n",
       "    .dataframe tbody tr th:only-of-type {\n",
       "        vertical-align: middle;\n",
       "    }\n",
       "\n",
       "    .dataframe tbody tr th {\n",
       "        vertical-align: top;\n",
       "    }\n",
       "\n",
       "    .dataframe thead th {\n",
       "        text-align: right;\n",
       "    }\n",
       "</style>\n",
       "<table border=\"1\" class=\"dataframe\">\n",
       "  <thead>\n",
       "    <tr style=\"text-align: right;\">\n",
       "      <th></th>\n",
       "      <th>rooms</th>\n",
       "      <th>bedrooms</th>\n",
       "      <th>bathrooms</th>\n",
       "      <th>surface_total</th>\n",
       "      <th>surface_covered</th>\n",
       "      <th>price</th>\n",
       "    </tr>\n",
       "  </thead>\n",
       "  <tbody>\n",
       "    <tr>\n",
       "      <th>count</th>\n",
       "      <td>89114.000000</td>\n",
       "      <td>89114.000000</td>\n",
       "      <td>86975.000000</td>\n",
       "      <td>80397.000000</td>\n",
       "      <td>80090.000000</td>\n",
       "      <td>8.911400e+04</td>\n",
       "    </tr>\n",
       "    <tr>\n",
       "      <th>mean</th>\n",
       "      <td>2.961701</td>\n",
       "      <td>1.957852</td>\n",
       "      <td>1.558459</td>\n",
       "      <td>113.021792</td>\n",
       "      <td>92.345686</td>\n",
       "      <td>2.589644e+05</td>\n",
       "    </tr>\n",
       "    <tr>\n",
       "      <th>std</th>\n",
       "      <td>1.307176</td>\n",
       "      <td>1.068805</td>\n",
       "      <td>0.856453</td>\n",
       "      <td>993.694303</td>\n",
       "      <td>775.492465</td>\n",
       "      <td>3.197390e+05</td>\n",
       "    </tr>\n",
       "    <tr>\n",
       "      <th>min</th>\n",
       "      <td>1.000000</td>\n",
       "      <td>0.000000</td>\n",
       "      <td>1.000000</td>\n",
       "      <td>12.000000</td>\n",
       "      <td>1.000000</td>\n",
       "      <td>6.000000e+03</td>\n",
       "    </tr>\n",
       "    <tr>\n",
       "      <th>25%</th>\n",
       "      <td>2.000000</td>\n",
       "      <td>1.000000</td>\n",
       "      <td>1.000000</td>\n",
       "      <td>50.000000</td>\n",
       "      <td>44.000000</td>\n",
       "      <td>1.215250e+05</td>\n",
       "    </tr>\n",
       "    <tr>\n",
       "      <th>50%</th>\n",
       "      <td>3.000000</td>\n",
       "      <td>2.000000</td>\n",
       "      <td>1.000000</td>\n",
       "      <td>71.000000</td>\n",
       "      <td>63.000000</td>\n",
       "      <td>1.750000e+05</td>\n",
       "    </tr>\n",
       "    <tr>\n",
       "      <th>75%</th>\n",
       "      <td>4.000000</td>\n",
       "      <td>3.000000</td>\n",
       "      <td>2.000000</td>\n",
       "      <td>111.000000</td>\n",
       "      <td>96.000000</td>\n",
       "      <td>2.782000e+05</td>\n",
       "    </tr>\n",
       "    <tr>\n",
       "      <th>max</th>\n",
       "      <td>26.000000</td>\n",
       "      <td>15.000000</td>\n",
       "      <td>14.000000</td>\n",
       "      <td>126062.000000</td>\n",
       "      <td>126062.000000</td>\n",
       "      <td>3.243423e+07</td>\n",
       "    </tr>\n",
       "  </tbody>\n",
       "</table>\n",
       "</div>"
      ],
      "text/plain": [
       "              rooms      bedrooms     bathrooms  surface_total  \\\n",
       "count  89114.000000  89114.000000  86975.000000   80397.000000   \n",
       "mean       2.961701      1.957852      1.558459     113.021792   \n",
       "std        1.307176      1.068805      0.856453     993.694303   \n",
       "min        1.000000      0.000000      1.000000      12.000000   \n",
       "25%        2.000000      1.000000      1.000000      50.000000   \n",
       "50%        3.000000      2.000000      1.000000      71.000000   \n",
       "75%        4.000000      3.000000      2.000000     111.000000   \n",
       "max       26.000000     15.000000     14.000000  126062.000000   \n",
       "\n",
       "       surface_covered         price  \n",
       "count     80090.000000  8.911400e+04  \n",
       "mean         92.345686  2.589644e+05  \n",
       "std         775.492465  3.197390e+05  \n",
       "min           1.000000  6.000000e+03  \n",
       "25%          44.000000  1.215250e+05  \n",
       "50%          63.000000  1.750000e+05  \n",
       "75%          96.000000  2.782000e+05  \n",
       "max      126062.000000  3.243423e+07  "
      ]
     },
     "execution_count": 18,
     "metadata": {},
     "output_type": "execute_result"
    }
   ],
   "source": [
    "capfed.describe()"
   ]
  },
  {
   "cell_type": "code",
   "execution_count": 19,
   "metadata": {
    "colab": {
     "base_uri": "https://localhost:8080/",
     "height": 204
    },
    "id": "kaoUusFXlM3I",
    "outputId": "9025c023-4dd8-444d-db8a-949dbcfbf1c3"
   },
   "outputs": [
    {
     "data": {
      "text/html": [
       "<div>\n",
       "<style scoped>\n",
       "    .dataframe tbody tr th:only-of-type {\n",
       "        vertical-align: middle;\n",
       "    }\n",
       "\n",
       "    .dataframe tbody tr th {\n",
       "        vertical-align: top;\n",
       "    }\n",
       "\n",
       "    .dataframe thead th {\n",
       "        text-align: right;\n",
       "    }\n",
       "</style>\n",
       "<table border=\"1\" class=\"dataframe\">\n",
       "  <thead>\n",
       "    <tr style=\"text-align: right;\">\n",
       "      <th></th>\n",
       "      <th>rooms</th>\n",
       "      <th>bedrooms</th>\n",
       "      <th>bathrooms</th>\n",
       "      <th>surface_total</th>\n",
       "      <th>surface_covered</th>\n",
       "      <th>price</th>\n",
       "      <th>l3</th>\n",
       "      <th>property_type</th>\n",
       "    </tr>\n",
       "  </thead>\n",
       "  <tbody>\n",
       "    <tr>\n",
       "      <th>0</th>\n",
       "      <td>7.0</td>\n",
       "      <td>7.0</td>\n",
       "      <td>2.0</td>\n",
       "      <td>140.0</td>\n",
       "      <td>140.0</td>\n",
       "      <td>153000.0</td>\n",
       "      <td>San Cristobal</td>\n",
       "      <td>Departamento</td>\n",
       "    </tr>\n",
       "    <tr>\n",
       "      <th>1</th>\n",
       "      <td>2.0</td>\n",
       "      <td>1.0</td>\n",
       "      <td>1.0</td>\n",
       "      <td>68.0</td>\n",
       "      <td>59.0</td>\n",
       "      <td>149000.0</td>\n",
       "      <td>Boedo</td>\n",
       "      <td>Departamento</td>\n",
       "    </tr>\n",
       "    <tr>\n",
       "      <th>2</th>\n",
       "      <td>2.0</td>\n",
       "      <td>1.0</td>\n",
       "      <td>1.0</td>\n",
       "      <td>50.0</td>\n",
       "      <td>44.0</td>\n",
       "      <td>115000.0</td>\n",
       "      <td>Boedo</td>\n",
       "      <td>Departamento</td>\n",
       "    </tr>\n",
       "    <tr>\n",
       "      <th>3</th>\n",
       "      <td>2.0</td>\n",
       "      <td>1.0</td>\n",
       "      <td>1.0</td>\n",
       "      <td>31.0</td>\n",
       "      <td>31.0</td>\n",
       "      <td>75000.0</td>\n",
       "      <td>Abasto</td>\n",
       "      <td>Departamento</td>\n",
       "    </tr>\n",
       "    <tr>\n",
       "      <th>4</th>\n",
       "      <td>1.0</td>\n",
       "      <td>1.0</td>\n",
       "      <td>1.0</td>\n",
       "      <td>22.0</td>\n",
       "      <td>22.0</td>\n",
       "      <td>48000.0</td>\n",
       "      <td>Abasto</td>\n",
       "      <td>Departamento</td>\n",
       "    </tr>\n",
       "  </tbody>\n",
       "</table>\n",
       "</div>"
      ],
      "text/plain": [
       "   rooms  bedrooms  bathrooms  surface_total  surface_covered     price  \\\n",
       "0    7.0       7.0        2.0          140.0            140.0  153000.0   \n",
       "1    2.0       1.0        1.0           68.0             59.0  149000.0   \n",
       "2    2.0       1.0        1.0           50.0             44.0  115000.0   \n",
       "3    2.0       1.0        1.0           31.0             31.0   75000.0   \n",
       "4    1.0       1.0        1.0           22.0             22.0   48000.0   \n",
       "\n",
       "              l3 property_type  \n",
       "0  San Cristobal  Departamento  \n",
       "1          Boedo  Departamento  \n",
       "2          Boedo  Departamento  \n",
       "3         Abasto  Departamento  \n",
       "4         Abasto  Departamento  "
      ]
     },
     "execution_count": 19,
     "metadata": {},
     "output_type": "execute_result"
    }
   ],
   "source": [
    "capfed.head()"
   ]
  },
  {
   "cell_type": "markdown",
   "metadata": {
    "id": "xayWU6Ot25zr"
   },
   "source": [
    "Relleno de nulos"
   ]
  },
  {
   "cell_type": "code",
   "execution_count": 20,
   "metadata": {},
   "outputs": [],
   "source": [
    "#tipo de propiedad, barrio, cantida de habitaciones / la variable que quiero rellenar y agrego la media de eso en el nulo"
   ]
  },
  {
   "cell_type": "code",
   "execution_count": 21,
   "metadata": {
    "id": "8Bk-xR2nio_p"
   },
   "outputs": [],
   "source": [
    "capfed['surface_covered'].fillna(capfed.groupby(['property_type','l3','rooms'])['surface_covered'].transform(pd.Series.mean),inplace=True)\n",
    "capfed['surface_total'].fillna(capfed.groupby(['property_type','l3','rooms'])['surface_total'].transform(pd.Series.mean),inplace=True)\n",
    "capfed['bathrooms'].fillna(capfed.groupby(['property_type','l3','rooms'])['bathrooms'].transform(pd.Series.mean).round(0),inplace=True)\n",
    "capfed.dropna(inplace=True)"
   ]
  },
  {
   "cell_type": "code",
   "execution_count": 22,
   "metadata": {
    "colab": {
     "base_uri": "https://localhost:8080/"
    },
    "id": "h3-xUvC6lM3J",
    "outputId": "066aa864-08fa-4f90-d752-170f28f86780"
   },
   "outputs": [
    {
     "data": {
      "text/plain": [
       "rooms              0\n",
       "bedrooms           0\n",
       "bathrooms          0\n",
       "surface_total      0\n",
       "surface_covered    0\n",
       "price              0\n",
       "l3                 0\n",
       "property_type      0\n",
       "dtype: int64"
      ]
     },
     "execution_count": 22,
     "metadata": {},
     "output_type": "execute_result"
    }
   ],
   "source": [
    "#reemplazo los datos faltantes con la media\n",
    "capfed.isna().sum()"
   ]
  },
  {
   "cell_type": "code",
   "execution_count": 23,
   "metadata": {
    "colab": {
     "base_uri": "https://localhost:8080/",
     "height": 297
    },
    "id": "CHP-s6Uu3cQi",
    "outputId": "724d2944-7983-4869-de5e-451a84bde4f2"
   },
   "outputs": [
    {
     "data": {
      "text/html": [
       "<div>\n",
       "<style scoped>\n",
       "    .dataframe tbody tr th:only-of-type {\n",
       "        vertical-align: middle;\n",
       "    }\n",
       "\n",
       "    .dataframe tbody tr th {\n",
       "        vertical-align: top;\n",
       "    }\n",
       "\n",
       "    .dataframe thead th {\n",
       "        text-align: right;\n",
       "    }\n",
       "</style>\n",
       "<table border=\"1\" class=\"dataframe\">\n",
       "  <thead>\n",
       "    <tr style=\"text-align: right;\">\n",
       "      <th></th>\n",
       "      <th>rooms</th>\n",
       "      <th>bedrooms</th>\n",
       "      <th>bathrooms</th>\n",
       "      <th>surface_total</th>\n",
       "      <th>surface_covered</th>\n",
       "      <th>price</th>\n",
       "    </tr>\n",
       "  </thead>\n",
       "  <tbody>\n",
       "    <tr>\n",
       "      <th>count</th>\n",
       "      <td>89067.000000</td>\n",
       "      <td>89067.000000</td>\n",
       "      <td>89067.000000</td>\n",
       "      <td>89067.000000</td>\n",
       "      <td>89067.000000</td>\n",
       "      <td>8.906700e+04</td>\n",
       "    </tr>\n",
       "    <tr>\n",
       "      <th>mean</th>\n",
       "      <td>2.960771</td>\n",
       "      <td>1.957055</td>\n",
       "      <td>1.551686</td>\n",
       "      <td>111.092873</td>\n",
       "      <td>90.690495</td>\n",
       "      <td>2.589480e+05</td>\n",
       "    </tr>\n",
       "    <tr>\n",
       "      <th>std</th>\n",
       "      <td>1.305582</td>\n",
       "      <td>1.067295</td>\n",
       "      <td>0.850968</td>\n",
       "      <td>944.368671</td>\n",
       "      <td>735.613802</td>\n",
       "      <td>3.197975e+05</td>\n",
       "    </tr>\n",
       "    <tr>\n",
       "      <th>min</th>\n",
       "      <td>1.000000</td>\n",
       "      <td>0.000000</td>\n",
       "      <td>1.000000</td>\n",
       "      <td>12.000000</td>\n",
       "      <td>1.000000</td>\n",
       "      <td>6.000000e+03</td>\n",
       "    </tr>\n",
       "    <tr>\n",
       "      <th>25%</th>\n",
       "      <td>2.000000</td>\n",
       "      <td>1.000000</td>\n",
       "      <td>1.000000</td>\n",
       "      <td>49.000000</td>\n",
       "      <td>44.000000</td>\n",
       "      <td>1.215000e+05</td>\n",
       "    </tr>\n",
       "    <tr>\n",
       "      <th>50%</th>\n",
       "      <td>3.000000</td>\n",
       "      <td>2.000000</td>\n",
       "      <td>1.000000</td>\n",
       "      <td>71.000000</td>\n",
       "      <td>62.909408</td>\n",
       "      <td>1.750000e+05</td>\n",
       "    </tr>\n",
       "    <tr>\n",
       "      <th>75%</th>\n",
       "      <td>4.000000</td>\n",
       "      <td>3.000000</td>\n",
       "      <td>2.000000</td>\n",
       "      <td>111.000000</td>\n",
       "      <td>95.000000</td>\n",
       "      <td>2.782000e+05</td>\n",
       "    </tr>\n",
       "    <tr>\n",
       "      <th>max</th>\n",
       "      <td>26.000000</td>\n",
       "      <td>15.000000</td>\n",
       "      <td>14.000000</td>\n",
       "      <td>126062.000000</td>\n",
       "      <td>126062.000000</td>\n",
       "      <td>3.243423e+07</td>\n",
       "    </tr>\n",
       "  </tbody>\n",
       "</table>\n",
       "</div>"
      ],
      "text/plain": [
       "              rooms      bedrooms     bathrooms  surface_total  \\\n",
       "count  89067.000000  89067.000000  89067.000000   89067.000000   \n",
       "mean       2.960771      1.957055      1.551686     111.092873   \n",
       "std        1.305582      1.067295      0.850968     944.368671   \n",
       "min        1.000000      0.000000      1.000000      12.000000   \n",
       "25%        2.000000      1.000000      1.000000      49.000000   \n",
       "50%        3.000000      2.000000      1.000000      71.000000   \n",
       "75%        4.000000      3.000000      2.000000     111.000000   \n",
       "max       26.000000     15.000000     14.000000  126062.000000   \n",
       "\n",
       "       surface_covered         price  \n",
       "count     89067.000000  8.906700e+04  \n",
       "mean         90.690495  2.589480e+05  \n",
       "std         735.613802  3.197975e+05  \n",
       "min           1.000000  6.000000e+03  \n",
       "25%          44.000000  1.215000e+05  \n",
       "50%          62.909408  1.750000e+05  \n",
       "75%          95.000000  2.782000e+05  \n",
       "max      126062.000000  3.243423e+07  "
      ]
     },
     "execution_count": 23,
     "metadata": {},
     "output_type": "execute_result"
    }
   ],
   "source": [
    "capfed.describe()"
   ]
  },
  {
   "cell_type": "markdown",
   "metadata": {
    "id": "fACemp0V2ZWJ"
   },
   "source": [
    "Valores atipicos"
   ]
  },
  {
   "cell_type": "code",
   "execution_count": 24,
   "metadata": {},
   "outputs": [
    {
     "data": {
      "text/plain": [
       "Text(0.5, 1.0, 'Outliers Superficie Total')"
      ]
     },
     "execution_count": 24,
     "metadata": {},
     "output_type": "execute_result"
    },
    {
     "data": {
      "image/png": "[encoded data removed]",
      "text/plain": [
       "<Figure size 432x288 with 1 Axes>"
      ]
     },
     "metadata": {},
     "output_type": "display_data"
    }
   ],
   "source": [
    "sns.set_theme(style=\"whitegrid\")\n",
    "tips = capfed\n",
    "ax = sns.boxplot(x=tips[\"price\"])\n",
    "plt.title('Outliers Superficie Total')"
   ]
  },
  {
   "cell_type": "code",
   "execution_count": 25,
   "metadata": {
    "id": "3hAgxXhS2d0_"
   },
   "outputs": [
    {
     "data": {
      "text/plain": [
       "Text(0.5, 1.0, 'cant de dormitorios')"
      ]
     },
     "execution_count": 25,
     "metadata": {},
     "output_type": "execute_result"
    },
    {
     "data": {
      "image/png": "[encoded data removed]",
      "text/plain": [
       "<Figure size 432x288 with 3 Axes>"
      ]
     },
     "metadata": {},
     "output_type": "display_data"
    }
   ],
   "source": [
    "plt.subplot(2,3,1)\n",
    "sns.boxplot(data=capfed,x='rooms')\n",
    "plt.title('cant de habitaciones')\n",
    "plt.subplot(2,3,2)\n",
    "sns.boxplot(data=capfed,x='bathrooms')\n",
    "plt.title('cant de banos')\n",
    "plt.subplot(2,3,3)\n",
    "sns.boxplot(data=capfed,x='bedrooms')\n",
    "plt.title('cant de dormitorios')"
   ]
  },
  {
   "cell_type": "code",
   "execution_count": 26,
   "metadata": {},
   "outputs": [
    {
     "data": {
      "text/plain": [
       "Text(0.5, 1.0, 'cant de sup cubierta')"
      ]
     },
     "execution_count": 26,
     "metadata": {},
     "output_type": "execute_result"
    },
    {
     "data": {
      "image/png": "[encoded data removed]",
      "text/plain": [
       "<Figure size 432x288 with 2 Axes>"
      ]
     },
     "metadata": {},
     "output_type": "display_data"
    }
   ],
   "source": [
    "plt.subplot(2,3,1)\n",
    "sns.boxplot(data=capfed,x='surface_total')\n",
    "plt.title('cant de sup total')\n",
    "plt.subplot(2,3,2)\n",
    "sns.boxplot(data=capfed,x='surface_covered')\n",
    "plt.title('cant de sup cubierta')\n"
   ]
  },
  {
   "cell_type": "code",
   "execution_count": 27,
   "metadata": {},
   "outputs": [],
   "source": [
    "q1=capfed.price.quantile(0.25)\n",
    "q3=capfed.price.quantile(0.75)\n",
    "iqr=q3-q1\n",
    "capfed=capfed[~((capfed.price<(q1-1.5*iqr))|\n",
    "                (capfed.price>(q3+1.5*iqr)))]"
   ]
  },
  {
   "cell_type": "code",
   "execution_count": 28,
   "metadata": {},
   "outputs": [
    {
     "data": {
      "text/plain": [
       "Text(0.5, 1.0, 'Outliers Superficie Total')"
      ]
     },
     "execution_count": 28,
     "metadata": {},
     "output_type": "execute_result"
    },
    {
     "data": {
      "image/png": "[encoded data removed]",
      "text/plain": [
       "<Figure size 432x288 with 1 Axes>"
      ]
     },
     "metadata": {},
     "output_type": "display_data"
    }
   ],
   "source": [
    "sns.set_theme(style=\"whitegrid\")\n",
    "tips = capfed\n",
    "ax = sns.boxplot(x=tips[\"price\"])\n",
    "plt.title('Outliers Superficie Total')"
   ]
  },
  {
   "cell_type": "code",
   "execution_count": 29,
   "metadata": {},
   "outputs": [],
   "source": [
    "q1=capfed.rooms.quantile(0.25)\n",
    "q3=capfed.rooms.quantile(0.75)\n",
    "iqr=q3-q1\n",
    "capfed=capfed[~((capfed.rooms<(q1-1.5*iqr))|\n",
    "                (capfed.rooms>(q3+1.5*iqr)))]"
   ]
  },
  {
   "cell_type": "code",
   "execution_count": 30,
   "metadata": {},
   "outputs": [],
   "source": [
    "q1=capfed.bathrooms.quantile(0.25)\n",
    "q3=capfed.bathrooms.quantile(0.75)\n",
    "iqr=q3-q1\n",
    "capfed=capfed[~((capfed.bathrooms<(q1-1.5*iqr))|\n",
    "                (capfed.bathrooms>(q3+1.5*iqr)))]"
   ]
  },
  {
   "cell_type": "code",
   "execution_count": 31,
   "metadata": {},
   "outputs": [],
   "source": [
    "q1=capfed.bedrooms.quantile(0.25)\n",
    "q3=capfed.bedrooms.quantile(0.75)\n",
    "iqr=q3-q1\n",
    "capfed=capfed[~((capfed.bedrooms<(q1-1.5*iqr))|\n",
    "                (capfed.bedrooms>(q3+1.5*iqr)))]"
   ]
  },
  {
   "cell_type": "code",
   "execution_count": 32,
   "metadata": {},
   "outputs": [],
   "source": [
    "q1=capfed.surface_total.quantile(0.25)\n",
    "q3=capfed.surface_total.quantile(0.75)\n",
    "iqr=q3-q1\n",
    "capfed=capfed[~((capfed.surface_total<(q1-1.5*iqr))|\n",
    "                (capfed.surface_total>(q3+1.5*iqr)))]"
   ]
  },
  {
   "cell_type": "code",
   "execution_count": 33,
   "metadata": {},
   "outputs": [],
   "source": [
    "q1=capfed.surface_covered.quantile(0.25)\n",
    "q3=capfed.surface_covered.quantile(0.75)\n",
    "iqr=q3-q1\n",
    "capfed=capfed[~((capfed.surface_covered<(q1-1.5*iqr))|\n",
    "                (capfed.surface_covered>(q3+1.5*iqr)))]"
   ]
  },
  {
   "cell_type": "code",
   "execution_count": 34,
   "metadata": {},
   "outputs": [
    {
     "data": {
      "text/plain": [
       "Text(0.5, 1.0, 'cant de dormitorios')"
      ]
     },
     "execution_count": 34,
     "metadata": {},
     "output_type": "execute_result"
    },
    {
     "data": {
      "image/png": "[encoded data removed]",
      "text/plain": [
       "<Figure size 432x288 with 3 Axes>"
      ]
     },
     "metadata": {},
     "output_type": "display_data"
    }
   ],
   "source": [
    "plt.subplot(2,3,1)\n",
    "sns.boxplot(data=capfed,x='rooms')\n",
    "plt.title('cant de habitaciones')\n",
    "plt.subplot(2,3,2)\n",
    "sns.boxplot(data=capfed,x='bathrooms')\n",
    "plt.title('cant de banos')\n",
    "plt.subplot(2,3,3)\n",
    "sns.boxplot(data=capfed,x='bedrooms')\n",
    "plt.title('cant de dormitorios')"
   ]
  },
  {
   "cell_type": "code",
   "execution_count": 35,
   "metadata": {},
   "outputs": [
    {
     "data": {
      "text/plain": [
       "Text(0.5, 1.0, 'cant de sup cubierta')"
      ]
     },
     "execution_count": 35,
     "metadata": {},
     "output_type": "execute_result"
    },
    {
     "data": {
      "image/png": "[encoded data removed]",
      "text/plain": [
       "<Figure size 432x288 with 2 Axes>"
      ]
     },
     "metadata": {},
     "output_type": "display_data"
    }
   ],
   "source": [
    "plt.subplot(2,3,1)\n",
    "sns.boxplot(data=capfed,x='surface_total')\n",
    "plt.title('cant de sup total')\n",
    "plt.subplot(2,3,2)\n",
    "sns.boxplot(data=capfed,x='surface_covered')\n",
    "plt.title('cant de sup cubierta')"
   ]
  },
  {
   "cell_type": "code",
   "execution_count": 36,
   "metadata": {},
   "outputs": [
    {
     "data": {
      "text/html": [
       "<div>\n",
       "<style scoped>\n",
       "    .dataframe tbody tr th:only-of-type {\n",
       "        vertical-align: middle;\n",
       "    }\n",
       "\n",
       "    .dataframe tbody tr th {\n",
       "        vertical-align: top;\n",
       "    }\n",
       "\n",
       "    .dataframe thead th {\n",
       "        text-align: right;\n",
       "    }\n",
       "</style>\n",
       "<table border=\"1\" class=\"dataframe\">\n",
       "  <thead>\n",
       "    <tr style=\"text-align: right;\">\n",
       "      <th></th>\n",
       "      <th>rooms</th>\n",
       "      <th>bedrooms</th>\n",
       "      <th>bathrooms</th>\n",
       "      <th>surface_total</th>\n",
       "      <th>surface_covered</th>\n",
       "      <th>price</th>\n",
       "    </tr>\n",
       "  </thead>\n",
       "  <tbody>\n",
       "    <tr>\n",
       "      <th>count</th>\n",
       "      <td>70744.000000</td>\n",
       "      <td>70744.000000</td>\n",
       "      <td>70744.000000</td>\n",
       "      <td>70744.000000</td>\n",
       "      <td>70744.000000</td>\n",
       "      <td>70744.000000</td>\n",
       "    </tr>\n",
       "    <tr>\n",
       "      <th>mean</th>\n",
       "      <td>2.541205</td>\n",
       "      <td>1.622837</td>\n",
       "      <td>1.285537</td>\n",
       "      <td>66.431711</td>\n",
       "      <td>58.574710</td>\n",
       "      <td>173001.379608</td>\n",
       "    </tr>\n",
       "    <tr>\n",
       "      <th>std</th>\n",
       "      <td>0.889145</td>\n",
       "      <td>0.765148</td>\n",
       "      <td>0.512156</td>\n",
       "      <td>26.457793</td>\n",
       "      <td>21.952613</td>\n",
       "      <td>82923.992027</td>\n",
       "    </tr>\n",
       "    <tr>\n",
       "      <th>min</th>\n",
       "      <td>1.000000</td>\n",
       "      <td>0.000000</td>\n",
       "      <td>1.000000</td>\n",
       "      <td>12.000000</td>\n",
       "      <td>1.000000</td>\n",
       "      <td>7500.000000</td>\n",
       "    </tr>\n",
       "    <tr>\n",
       "      <th>25%</th>\n",
       "      <td>2.000000</td>\n",
       "      <td>1.000000</td>\n",
       "      <td>1.000000</td>\n",
       "      <td>46.000000</td>\n",
       "      <td>41.133663</td>\n",
       "      <td>112000.000000</td>\n",
       "    </tr>\n",
       "    <tr>\n",
       "      <th>50%</th>\n",
       "      <td>3.000000</td>\n",
       "      <td>2.000000</td>\n",
       "      <td>1.000000</td>\n",
       "      <td>61.000000</td>\n",
       "      <td>54.000000</td>\n",
       "      <td>153598.000000</td>\n",
       "    </tr>\n",
       "    <tr>\n",
       "      <th>75%</th>\n",
       "      <td>3.000000</td>\n",
       "      <td>2.000000</td>\n",
       "      <td>2.000000</td>\n",
       "      <td>83.000000</td>\n",
       "      <td>73.000000</td>\n",
       "      <td>217000.000000</td>\n",
       "    </tr>\n",
       "    <tr>\n",
       "      <th>max</th>\n",
       "      <td>4.000000</td>\n",
       "      <td>3.000000</td>\n",
       "      <td>3.000000</td>\n",
       "      <td>152.000000</td>\n",
       "      <td>122.000000</td>\n",
       "      <td>513000.000000</td>\n",
       "    </tr>\n",
       "  </tbody>\n",
       "</table>\n",
       "</div>"
      ],
      "text/plain": [
       "              rooms      bedrooms     bathrooms  surface_total  \\\n",
       "count  70744.000000  70744.000000  70744.000000   70744.000000   \n",
       "mean       2.541205      1.622837      1.285537      66.431711   \n",
       "std        0.889145      0.765148      0.512156      26.457793   \n",
       "min        1.000000      0.000000      1.000000      12.000000   \n",
       "25%        2.000000      1.000000      1.000000      46.000000   \n",
       "50%        3.000000      2.000000      1.000000      61.000000   \n",
       "75%        3.000000      2.000000      2.000000      83.000000   \n",
       "max        4.000000      3.000000      3.000000     152.000000   \n",
       "\n",
       "       surface_covered          price  \n",
       "count     70744.000000   70744.000000  \n",
       "mean         58.574710  173001.379608  \n",
       "std          21.952613   82923.992027  \n",
       "min           1.000000    7500.000000  \n",
       "25%          41.133663  112000.000000  \n",
       "50%          54.000000  153598.000000  \n",
       "75%          73.000000  217000.000000  \n",
       "max         122.000000  513000.000000  "
      ]
     },
     "execution_count": 36,
     "metadata": {},
     "output_type": "execute_result"
    }
   ],
   "source": [
    "capfed.describe()"
   ]
  },
  {
   "cell_type": "code",
   "execution_count": 37,
   "metadata": {},
   "outputs": [
    {
     "data": {
      "text/plain": [
       "Text(0.5, 1.0, 'Correlacion de todo el dataset')"
      ]
     },
     "execution_count": 37,
     "metadata": {},
     "output_type": "execute_result"
    },
    {
     "data": {
      "image/png": "[encoded data removed]",
      "text/plain": [
       "<Figure size 720x360 with 2 Axes>"
      ]
     },
     "metadata": {},
     "output_type": "display_data"
    }
   ],
   "source": [
    "plt.figure(figsize=(10,5))\n",
    "sns.heatmap(capfed.corr(),annot=True,cmap='RdBu')\n",
    "plt.title('Correlacion de todo el dataset')"
   ]
  },
  {
   "cell_type": "markdown",
   "metadata": {},
   "source": [
    "Correlaciones con el dataset limpio\n",
    "- bedrooms y bathrooms tienen una correlacion positiva de 0.93\n",
    "- segundo en importancia con un 0.90 sup cubierta y sup total\n",
    "(estas correlaciones hacen sentido)\n",
    "- cuartos y precio tiene una correlacion baja de 0.57, hubiera esperado que fuera mas alta."
   ]
  },
  {
   "cell_type": "code",
   "execution_count": 38,
   "metadata": {},
   "outputs": [
    {
     "data": {
      "text/plain": [
       "Departamento    64232\n",
       "PH               6193\n",
       "Casa              319\n",
       "Name: property_type, dtype: int64"
      ]
     },
     "execution_count": 38,
     "metadata": {},
     "output_type": "execute_result"
    }
   ],
   "source": [
    "#entender peso final de las propiedades en el dataset\n",
    "capfed.property_type.value_counts()"
   ]
  },
  {
   "cell_type": "code",
   "execution_count": 39,
   "metadata": {},
   "outputs": [
    {
     "data": {
      "text/plain": [
       "(70744, 8)"
      ]
     },
     "execution_count": 39,
     "metadata": {},
     "output_type": "execute_result"
    }
   ],
   "source": [
    "capfed.shape"
   ]
  },
  {
   "cell_type": "markdown",
   "metadata": {},
   "source": [
    "## Encoders"
   ]
  },
  {
   "cell_type": "code",
   "execution_count": 40,
   "metadata": {},
   "outputs": [
    {
     "data": {
      "text/plain": [
       "rooms              float64\n",
       "bedrooms           float64\n",
       "bathrooms          float64\n",
       "surface_total      float64\n",
       "surface_covered    float64\n",
       "price              float64\n",
       "l3                  object\n",
       "property_type       object\n",
       "dtype: object"
      ]
     },
     "execution_count": 40,
     "metadata": {},
     "output_type": "execute_result"
    }
   ],
   "source": [
    "#Quiero entender cuales son las variables categoricas\n",
    "capfed.dtypes"
   ]
  },
  {
   "cell_type": "code",
   "execution_count": 41,
   "metadata": {},
   "outputs": [
    {
     "name": "stdout",
     "output_type": "stream",
     "text": [
      "categorical values\n",
      "['l3', 'property_type']\n"
     ]
    }
   ],
   "source": [
    "s=(capfed.dtypes=='object')\n",
    "object_col=list(s[s].index)\n",
    "print('categorical values')\n",
    "print(object_col)"
   ]
  },
  {
   "cell_type": "code",
   "execution_count": 42,
   "metadata": {},
   "outputs": [
    {
     "data": {
      "text/html": [
       "<div>\n",
       "<style scoped>\n",
       "    .dataframe tbody tr th:only-of-type {\n",
       "        vertical-align: middle;\n",
       "    }\n",
       "\n",
       "    .dataframe tbody tr th {\n",
       "        vertical-align: top;\n",
       "    }\n",
       "\n",
       "    .dataframe thead th {\n",
       "        text-align: right;\n",
       "    }\n",
       "</style>\n",
       "<table border=\"1\" class=\"dataframe\">\n",
       "  <thead>\n",
       "    <tr style=\"text-align: right;\">\n",
       "      <th></th>\n",
       "      <th>rooms</th>\n",
       "      <th>bedrooms</th>\n",
       "      <th>bathrooms</th>\n",
       "      <th>surface_total</th>\n",
       "      <th>surface_covered</th>\n",
       "      <th>price</th>\n",
       "      <th>l3</th>\n",
       "      <th>property_type</th>\n",
       "    </tr>\n",
       "  </thead>\n",
       "  <tbody>\n",
       "    <tr>\n",
       "      <th>1</th>\n",
       "      <td>2.0</td>\n",
       "      <td>1.0</td>\n",
       "      <td>1.0</td>\n",
       "      <td>68.0</td>\n",
       "      <td>59.0</td>\n",
       "      <td>149000.0</td>\n",
       "      <td>Boedo</td>\n",
       "      <td>Departamento</td>\n",
       "    </tr>\n",
       "    <tr>\n",
       "      <th>2</th>\n",
       "      <td>2.0</td>\n",
       "      <td>1.0</td>\n",
       "      <td>1.0</td>\n",
       "      <td>50.0</td>\n",
       "      <td>44.0</td>\n",
       "      <td>115000.0</td>\n",
       "      <td>Boedo</td>\n",
       "      <td>Departamento</td>\n",
       "    </tr>\n",
       "    <tr>\n",
       "      <th>3</th>\n",
       "      <td>2.0</td>\n",
       "      <td>1.0</td>\n",
       "      <td>1.0</td>\n",
       "      <td>31.0</td>\n",
       "      <td>31.0</td>\n",
       "      <td>75000.0</td>\n",
       "      <td>Abasto</td>\n",
       "      <td>Departamento</td>\n",
       "    </tr>\n",
       "    <tr>\n",
       "      <th>4</th>\n",
       "      <td>1.0</td>\n",
       "      <td>1.0</td>\n",
       "      <td>1.0</td>\n",
       "      <td>22.0</td>\n",
       "      <td>22.0</td>\n",
       "      <td>48000.0</td>\n",
       "      <td>Abasto</td>\n",
       "      <td>Departamento</td>\n",
       "    </tr>\n",
       "    <tr>\n",
       "      <th>5</th>\n",
       "      <td>2.0</td>\n",
       "      <td>1.0</td>\n",
       "      <td>1.0</td>\n",
       "      <td>45.0</td>\n",
       "      <td>45.0</td>\n",
       "      <td>95000.0</td>\n",
       "      <td>Flores</td>\n",
       "      <td>Departamento</td>\n",
       "    </tr>\n",
       "  </tbody>\n",
       "</table>\n",
       "</div>"
      ],
      "text/plain": [
       "   rooms  bedrooms  bathrooms  surface_total  surface_covered     price  \\\n",
       "1    2.0       1.0        1.0           68.0             59.0  149000.0   \n",
       "2    2.0       1.0        1.0           50.0             44.0  115000.0   \n",
       "3    2.0       1.0        1.0           31.0             31.0   75000.0   \n",
       "4    1.0       1.0        1.0           22.0             22.0   48000.0   \n",
       "5    2.0       1.0        1.0           45.0             45.0   95000.0   \n",
       "\n",
       "       l3 property_type  \n",
       "1   Boedo  Departamento  \n",
       "2   Boedo  Departamento  \n",
       "3  Abasto  Departamento  \n",
       "4  Abasto  Departamento  \n",
       "5  Flores  Departamento  "
      ]
     },
     "execution_count": 42,
     "metadata": {},
     "output_type": "execute_result"
    }
   ],
   "source": [
    "capfed.head()"
   ]
  },
  {
   "cell_type": "code",
   "execution_count": 43,
   "metadata": {},
   "outputs": [],
   "source": [
    "capfed.to_csv('capfed.csv')"
   ]
  },
  {
   "cell_type": "code",
   "execution_count": 44,
   "metadata": {},
   "outputs": [],
   "source": [
    "del capfed"
   ]
  },
  {
   "cell_type": "code",
   "execution_count": 45,
   "metadata": {},
   "outputs": [
    {
     "data": {
      "text/html": [
       "<div>\n",
       "<style scoped>\n",
       "    .dataframe tbody tr th:only-of-type {\n",
       "        vertical-align: middle;\n",
       "    }\n",
       "\n",
       "    .dataframe tbody tr th {\n",
       "        vertical-align: top;\n",
       "    }\n",
       "\n",
       "    .dataframe thead th {\n",
       "        text-align: right;\n",
       "    }\n",
       "</style>\n",
       "<table border=\"1\" class=\"dataframe\">\n",
       "  <thead>\n",
       "    <tr style=\"text-align: right;\">\n",
       "      <th></th>\n",
       "      <th>Unnamed: 0</th>\n",
       "      <th>rooms</th>\n",
       "      <th>bedrooms</th>\n",
       "      <th>bathrooms</th>\n",
       "      <th>surface_total</th>\n",
       "      <th>surface_covered</th>\n",
       "      <th>price</th>\n",
       "      <th>l3</th>\n",
       "      <th>property_type</th>\n",
       "    </tr>\n",
       "  </thead>\n",
       "  <tbody>\n",
       "    <tr>\n",
       "      <th>0</th>\n",
       "      <td>1</td>\n",
       "      <td>2.0</td>\n",
       "      <td>1.0</td>\n",
       "      <td>1.0</td>\n",
       "      <td>68.0</td>\n",
       "      <td>59.0</td>\n",
       "      <td>149000.0</td>\n",
       "      <td>Boedo</td>\n",
       "      <td>Departamento</td>\n",
       "    </tr>\n",
       "    <tr>\n",
       "      <th>1</th>\n",
       "      <td>2</td>\n",
       "      <td>2.0</td>\n",
       "      <td>1.0</td>\n",
       "      <td>1.0</td>\n",
       "      <td>50.0</td>\n",
       "      <td>44.0</td>\n",
       "      <td>115000.0</td>\n",
       "      <td>Boedo</td>\n",
       "      <td>Departamento</td>\n",
       "    </tr>\n",
       "    <tr>\n",
       "      <th>2</th>\n",
       "      <td>3</td>\n",
       "      <td>2.0</td>\n",
       "      <td>1.0</td>\n",
       "      <td>1.0</td>\n",
       "      <td>31.0</td>\n",
       "      <td>31.0</td>\n",
       "      <td>75000.0</td>\n",
       "      <td>Abasto</td>\n",
       "      <td>Departamento</td>\n",
       "    </tr>\n",
       "    <tr>\n",
       "      <th>3</th>\n",
       "      <td>4</td>\n",
       "      <td>1.0</td>\n",
       "      <td>1.0</td>\n",
       "      <td>1.0</td>\n",
       "      <td>22.0</td>\n",
       "      <td>22.0</td>\n",
       "      <td>48000.0</td>\n",
       "      <td>Abasto</td>\n",
       "      <td>Departamento</td>\n",
       "    </tr>\n",
       "    <tr>\n",
       "      <th>4</th>\n",
       "      <td>5</td>\n",
       "      <td>2.0</td>\n",
       "      <td>1.0</td>\n",
       "      <td>1.0</td>\n",
       "      <td>45.0</td>\n",
       "      <td>45.0</td>\n",
       "      <td>95000.0</td>\n",
       "      <td>Flores</td>\n",
       "      <td>Departamento</td>\n",
       "    </tr>\n",
       "  </tbody>\n",
       "</table>\n",
       "</div>"
      ],
      "text/plain": [
       "   Unnamed: 0  rooms  bedrooms  bathrooms  surface_total  surface_covered  \\\n",
       "0           1    2.0       1.0        1.0           68.0             59.0   \n",
       "1           2    2.0       1.0        1.0           50.0             44.0   \n",
       "2           3    2.0       1.0        1.0           31.0             31.0   \n",
       "3           4    1.0       1.0        1.0           22.0             22.0   \n",
       "4           5    2.0       1.0        1.0           45.0             45.0   \n",
       "\n",
       "      price      l3 property_type  \n",
       "0  149000.0   Boedo  Departamento  \n",
       "1  115000.0   Boedo  Departamento  \n",
       "2   75000.0  Abasto  Departamento  \n",
       "3   48000.0  Abasto  Departamento  \n",
       "4   95000.0  Flores  Departamento  "
      ]
     },
     "execution_count": 45,
     "metadata": {},
     "output_type": "execute_result"
    }
   ],
   "source": [
    "capfed = pd.read_csv('capfed.csv')\n",
    "capfed.head()"
   ]
  },
  {
   "cell_type": "code",
   "execution_count": 46,
   "metadata": {},
   "outputs": [
    {
     "data": {
      "text/plain": [
       "(70744, 9)"
      ]
     },
     "execution_count": 46,
     "metadata": {},
     "output_type": "execute_result"
    }
   ],
   "source": [
    "capfed.shape"
   ]
  },
  {
   "cell_type": "markdown",
   "metadata": {},
   "source": [
    "Usamos dummies para las variables categoricas pasarlas a numero y poder entrenar mejor el modelo, entendiendo que el tipo de propiedad y la ubicación de la misma tienen algún tipo de influencia en el precio final de las distintas propiedades"
   ]
  },
  {
   "cell_type": "code",
   "execution_count": 47,
   "metadata": {},
   "outputs": [
    {
     "data": {
      "text/html": [
       "<div>\n",
       "<style scoped>\n",
       "    .dataframe tbody tr th:only-of-type {\n",
       "        vertical-align: middle;\n",
       "    }\n",
       "\n",
       "    .dataframe tbody tr th {\n",
       "        vertical-align: top;\n",
       "    }\n",
       "\n",
       "    .dataframe thead th {\n",
       "        text-align: right;\n",
       "    }\n",
       "</style>\n",
       "<table border=\"1\" class=\"dataframe\">\n",
       "  <thead>\n",
       "    <tr style=\"text-align: right;\">\n",
       "      <th></th>\n",
       "      <th>Unnamed: 0</th>\n",
       "      <th>rooms</th>\n",
       "      <th>bedrooms</th>\n",
       "      <th>bathrooms</th>\n",
       "      <th>surface_total</th>\n",
       "      <th>surface_covered</th>\n",
       "      <th>price</th>\n",
       "      <th>property_type</th>\n",
       "      <th>l3_Abasto</th>\n",
       "      <th>l3_Agronomía</th>\n",
       "      <th>...</th>\n",
       "      <th>l3_Villa Lugano</th>\n",
       "      <th>l3_Villa Luro</th>\n",
       "      <th>l3_Villa Ortuzar</th>\n",
       "      <th>l3_Villa Pueyrredón</th>\n",
       "      <th>l3_Villa Real</th>\n",
       "      <th>l3_Villa Riachuelo</th>\n",
       "      <th>l3_Villa Santa Rita</th>\n",
       "      <th>l3_Villa Soldati</th>\n",
       "      <th>l3_Villa Urquiza</th>\n",
       "      <th>l3_Villa del Parque</th>\n",
       "    </tr>\n",
       "  </thead>\n",
       "  <tbody>\n",
       "    <tr>\n",
       "      <th>0</th>\n",
       "      <td>1</td>\n",
       "      <td>2.0</td>\n",
       "      <td>1.0</td>\n",
       "      <td>1.0</td>\n",
       "      <td>68.0</td>\n",
       "      <td>59.0</td>\n",
       "      <td>149000.0</td>\n",
       "      <td>Departamento</td>\n",
       "      <td>0</td>\n",
       "      <td>0</td>\n",
       "      <td>...</td>\n",
       "      <td>0</td>\n",
       "      <td>0</td>\n",
       "      <td>0</td>\n",
       "      <td>0</td>\n",
       "      <td>0</td>\n",
       "      <td>0</td>\n",
       "      <td>0</td>\n",
       "      <td>0</td>\n",
       "      <td>0</td>\n",
       "      <td>0</td>\n",
       "    </tr>\n",
       "    <tr>\n",
       "      <th>1</th>\n",
       "      <td>2</td>\n",
       "      <td>2.0</td>\n",
       "      <td>1.0</td>\n",
       "      <td>1.0</td>\n",
       "      <td>50.0</td>\n",
       "      <td>44.0</td>\n",
       "      <td>115000.0</td>\n",
       "      <td>Departamento</td>\n",
       "      <td>0</td>\n",
       "      <td>0</td>\n",
       "      <td>...</td>\n",
       "      <td>0</td>\n",
       "      <td>0</td>\n",
       "      <td>0</td>\n",
       "      <td>0</td>\n",
       "      <td>0</td>\n",
       "      <td>0</td>\n",
       "      <td>0</td>\n",
       "      <td>0</td>\n",
       "      <td>0</td>\n",
       "      <td>0</td>\n",
       "    </tr>\n",
       "    <tr>\n",
       "      <th>2</th>\n",
       "      <td>3</td>\n",
       "      <td>2.0</td>\n",
       "      <td>1.0</td>\n",
       "      <td>1.0</td>\n",
       "      <td>31.0</td>\n",
       "      <td>31.0</td>\n",
       "      <td>75000.0</td>\n",
       "      <td>Departamento</td>\n",
       "      <td>1</td>\n",
       "      <td>0</td>\n",
       "      <td>...</td>\n",
       "      <td>0</td>\n",
       "      <td>0</td>\n",
       "      <td>0</td>\n",
       "      <td>0</td>\n",
       "      <td>0</td>\n",
       "      <td>0</td>\n",
       "      <td>0</td>\n",
       "      <td>0</td>\n",
       "      <td>0</td>\n",
       "      <td>0</td>\n",
       "    </tr>\n",
       "    <tr>\n",
       "      <th>3</th>\n",
       "      <td>4</td>\n",
       "      <td>1.0</td>\n",
       "      <td>1.0</td>\n",
       "      <td>1.0</td>\n",
       "      <td>22.0</td>\n",
       "      <td>22.0</td>\n",
       "      <td>48000.0</td>\n",
       "      <td>Departamento</td>\n",
       "      <td>1</td>\n",
       "      <td>0</td>\n",
       "      <td>...</td>\n",
       "      <td>0</td>\n",
       "      <td>0</td>\n",
       "      <td>0</td>\n",
       "      <td>0</td>\n",
       "      <td>0</td>\n",
       "      <td>0</td>\n",
       "      <td>0</td>\n",
       "      <td>0</td>\n",
       "      <td>0</td>\n",
       "      <td>0</td>\n",
       "    </tr>\n",
       "    <tr>\n",
       "      <th>4</th>\n",
       "      <td>5</td>\n",
       "      <td>2.0</td>\n",
       "      <td>1.0</td>\n",
       "      <td>1.0</td>\n",
       "      <td>45.0</td>\n",
       "      <td>45.0</td>\n",
       "      <td>95000.0</td>\n",
       "      <td>Departamento</td>\n",
       "      <td>0</td>\n",
       "      <td>0</td>\n",
       "      <td>...</td>\n",
       "      <td>0</td>\n",
       "      <td>0</td>\n",
       "      <td>0</td>\n",
       "      <td>0</td>\n",
       "      <td>0</td>\n",
       "      <td>0</td>\n",
       "      <td>0</td>\n",
       "      <td>0</td>\n",
       "      <td>0</td>\n",
       "      <td>0</td>\n",
       "    </tr>\n",
       "  </tbody>\n",
       "</table>\n",
       "<p>5 rows × 65 columns</p>\n",
       "</div>"
      ],
      "text/plain": [
       "   Unnamed: 0  rooms  bedrooms  bathrooms  surface_total  surface_covered  \\\n",
       "0           1    2.0       1.0        1.0           68.0             59.0   \n",
       "1           2    2.0       1.0        1.0           50.0             44.0   \n",
       "2           3    2.0       1.0        1.0           31.0             31.0   \n",
       "3           4    1.0       1.0        1.0           22.0             22.0   \n",
       "4           5    2.0       1.0        1.0           45.0             45.0   \n",
       "\n",
       "      price property_type  l3_Abasto  l3_Agronomía  ...  l3_Villa Lugano  \\\n",
       "0  149000.0  Departamento          0             0  ...                0   \n",
       "1  115000.0  Departamento          0             0  ...                0   \n",
       "2   75000.0  Departamento          1             0  ...                0   \n",
       "3   48000.0  Departamento          1             0  ...                0   \n",
       "4   95000.0  Departamento          0             0  ...                0   \n",
       "\n",
       "   l3_Villa Luro  l3_Villa Ortuzar  l3_Villa Pueyrredón  l3_Villa Real  \\\n",
       "0              0                 0                    0              0   \n",
       "1              0                 0                    0              0   \n",
       "2              0                 0                    0              0   \n",
       "3              0                 0                    0              0   \n",
       "4              0                 0                    0              0   \n",
       "\n",
       "   l3_Villa Riachuelo  l3_Villa Santa Rita  l3_Villa Soldati  \\\n",
       "0                   0                    0                 0   \n",
       "1                   0                    0                 0   \n",
       "2                   0                    0                 0   \n",
       "3                   0                    0                 0   \n",
       "4                   0                    0                 0   \n",
       "\n",
       "   l3_Villa Urquiza  l3_Villa del Parque  \n",
       "0                 0                    0  \n",
       "1                 0                    0  \n",
       "2                 0                    0  \n",
       "3                 0                    0  \n",
       "4                 0                    0  \n",
       "\n",
       "[5 rows x 65 columns]"
      ]
     },
     "execution_count": 47,
     "metadata": {},
     "output_type": "execute_result"
    }
   ],
   "source": [
    "dummies1 = pd.get_dummies(capfed, columns=['l3'])\n",
    "dummies1.head()"
   ]
  },
  {
   "cell_type": "code",
   "execution_count": 48,
   "metadata": {},
   "outputs": [
    {
     "data": {
      "text/plain": [
       "(70744, 65)"
      ]
     },
     "execution_count": 48,
     "metadata": {},
     "output_type": "execute_result"
    }
   ],
   "source": [
    "dummies1.shape"
   ]
  },
  {
   "cell_type": "code",
   "execution_count": 49,
   "metadata": {},
   "outputs": [
    {
     "data": {
      "text/html": [
       "<div>\n",
       "<style scoped>\n",
       "    .dataframe tbody tr th:only-of-type {\n",
       "        vertical-align: middle;\n",
       "    }\n",
       "\n",
       "    .dataframe tbody tr th {\n",
       "        vertical-align: top;\n",
       "    }\n",
       "\n",
       "    .dataframe thead th {\n",
       "        text-align: right;\n",
       "    }\n",
       "</style>\n",
       "<table border=\"1\" class=\"dataframe\">\n",
       "  <thead>\n",
       "    <tr style=\"text-align: right;\">\n",
       "      <th></th>\n",
       "      <th>Unnamed: 0</th>\n",
       "      <th>rooms</th>\n",
       "      <th>bedrooms</th>\n",
       "      <th>bathrooms</th>\n",
       "      <th>surface_total</th>\n",
       "      <th>surface_covered</th>\n",
       "      <th>price</th>\n",
       "      <th>l3_Abasto</th>\n",
       "      <th>l3_Agronomía</th>\n",
       "      <th>l3_Almagro</th>\n",
       "      <th>...</th>\n",
       "      <th>l3_Villa Pueyrredón</th>\n",
       "      <th>l3_Villa Real</th>\n",
       "      <th>l3_Villa Riachuelo</th>\n",
       "      <th>l3_Villa Santa Rita</th>\n",
       "      <th>l3_Villa Soldati</th>\n",
       "      <th>l3_Villa Urquiza</th>\n",
       "      <th>l3_Villa del Parque</th>\n",
       "      <th>property_type_Casa</th>\n",
       "      <th>property_type_Departamento</th>\n",
       "      <th>property_type_PH</th>\n",
       "    </tr>\n",
       "  </thead>\n",
       "  <tbody>\n",
       "    <tr>\n",
       "      <th>0</th>\n",
       "      <td>1</td>\n",
       "      <td>2.0</td>\n",
       "      <td>1.0</td>\n",
       "      <td>1.0</td>\n",
       "      <td>68.0</td>\n",
       "      <td>59.0</td>\n",
       "      <td>149000.0</td>\n",
       "      <td>0</td>\n",
       "      <td>0</td>\n",
       "      <td>0</td>\n",
       "      <td>...</td>\n",
       "      <td>0</td>\n",
       "      <td>0</td>\n",
       "      <td>0</td>\n",
       "      <td>0</td>\n",
       "      <td>0</td>\n",
       "      <td>0</td>\n",
       "      <td>0</td>\n",
       "      <td>0</td>\n",
       "      <td>1</td>\n",
       "      <td>0</td>\n",
       "    </tr>\n",
       "    <tr>\n",
       "      <th>1</th>\n",
       "      <td>2</td>\n",
       "      <td>2.0</td>\n",
       "      <td>1.0</td>\n",
       "      <td>1.0</td>\n",
       "      <td>50.0</td>\n",
       "      <td>44.0</td>\n",
       "      <td>115000.0</td>\n",
       "      <td>0</td>\n",
       "      <td>0</td>\n",
       "      <td>0</td>\n",
       "      <td>...</td>\n",
       "      <td>0</td>\n",
       "      <td>0</td>\n",
       "      <td>0</td>\n",
       "      <td>0</td>\n",
       "      <td>0</td>\n",
       "      <td>0</td>\n",
       "      <td>0</td>\n",
       "      <td>0</td>\n",
       "      <td>1</td>\n",
       "      <td>0</td>\n",
       "    </tr>\n",
       "    <tr>\n",
       "      <th>2</th>\n",
       "      <td>3</td>\n",
       "      <td>2.0</td>\n",
       "      <td>1.0</td>\n",
       "      <td>1.0</td>\n",
       "      <td>31.0</td>\n",
       "      <td>31.0</td>\n",
       "      <td>75000.0</td>\n",
       "      <td>1</td>\n",
       "      <td>0</td>\n",
       "      <td>0</td>\n",
       "      <td>...</td>\n",
       "      <td>0</td>\n",
       "      <td>0</td>\n",
       "      <td>0</td>\n",
       "      <td>0</td>\n",
       "      <td>0</td>\n",
       "      <td>0</td>\n",
       "      <td>0</td>\n",
       "      <td>0</td>\n",
       "      <td>1</td>\n",
       "      <td>0</td>\n",
       "    </tr>\n",
       "    <tr>\n",
       "      <th>3</th>\n",
       "      <td>4</td>\n",
       "      <td>1.0</td>\n",
       "      <td>1.0</td>\n",
       "      <td>1.0</td>\n",
       "      <td>22.0</td>\n",
       "      <td>22.0</td>\n",
       "      <td>48000.0</td>\n",
       "      <td>1</td>\n",
       "      <td>0</td>\n",
       "      <td>0</td>\n",
       "      <td>...</td>\n",
       "      <td>0</td>\n",
       "      <td>0</td>\n",
       "      <td>0</td>\n",
       "      <td>0</td>\n",
       "      <td>0</td>\n",
       "      <td>0</td>\n",
       "      <td>0</td>\n",
       "      <td>0</td>\n",
       "      <td>1</td>\n",
       "      <td>0</td>\n",
       "    </tr>\n",
       "    <tr>\n",
       "      <th>4</th>\n",
       "      <td>5</td>\n",
       "      <td>2.0</td>\n",
       "      <td>1.0</td>\n",
       "      <td>1.0</td>\n",
       "      <td>45.0</td>\n",
       "      <td>45.0</td>\n",
       "      <td>95000.0</td>\n",
       "      <td>0</td>\n",
       "      <td>0</td>\n",
       "      <td>0</td>\n",
       "      <td>...</td>\n",
       "      <td>0</td>\n",
       "      <td>0</td>\n",
       "      <td>0</td>\n",
       "      <td>0</td>\n",
       "      <td>0</td>\n",
       "      <td>0</td>\n",
       "      <td>0</td>\n",
       "      <td>0</td>\n",
       "      <td>1</td>\n",
       "      <td>0</td>\n",
       "    </tr>\n",
       "  </tbody>\n",
       "</table>\n",
       "<p>5 rows × 67 columns</p>\n",
       "</div>"
      ],
      "text/plain": [
       "   Unnamed: 0  rooms  bedrooms  bathrooms  surface_total  surface_covered  \\\n",
       "0           1    2.0       1.0        1.0           68.0             59.0   \n",
       "1           2    2.0       1.0        1.0           50.0             44.0   \n",
       "2           3    2.0       1.0        1.0           31.0             31.0   \n",
       "3           4    1.0       1.0        1.0           22.0             22.0   \n",
       "4           5    2.0       1.0        1.0           45.0             45.0   \n",
       "\n",
       "      price  l3_Abasto  l3_Agronomía  l3_Almagro  ...  l3_Villa Pueyrredón  \\\n",
       "0  149000.0          0             0           0  ...                    0   \n",
       "1  115000.0          0             0           0  ...                    0   \n",
       "2   75000.0          1             0           0  ...                    0   \n",
       "3   48000.0          1             0           0  ...                    0   \n",
       "4   95000.0          0             0           0  ...                    0   \n",
       "\n",
       "   l3_Villa Real  l3_Villa Riachuelo  l3_Villa Santa Rita  l3_Villa Soldati  \\\n",
       "0              0                   0                    0                 0   \n",
       "1              0                   0                    0                 0   \n",
       "2              0                   0                    0                 0   \n",
       "3              0                   0                    0                 0   \n",
       "4              0                   0                    0                 0   \n",
       "\n",
       "   l3_Villa Urquiza  l3_Villa del Parque  property_type_Casa  \\\n",
       "0                 0                    0                   0   \n",
       "1                 0                    0                   0   \n",
       "2                 0                    0                   0   \n",
       "3                 0                    0                   0   \n",
       "4                 0                    0                   0   \n",
       "\n",
       "   property_type_Departamento  property_type_PH  \n",
       "0                           1                 0  \n",
       "1                           1                 0  \n",
       "2                           1                 0  \n",
       "3                           1                 0  \n",
       "4                           1                 0  \n",
       "\n",
       "[5 rows x 67 columns]"
      ]
     },
     "execution_count": 49,
     "metadata": {},
     "output_type": "execute_result"
    }
   ],
   "source": [
    "dummies2 = pd.get_dummies(dummies1, columns=['property_type'])\n",
    "dummies2.head()"
   ]
  },
  {
   "cell_type": "code",
   "execution_count": 50,
   "metadata": {},
   "outputs": [
    {
     "data": {
      "text/plain": [
       "(70744, 67)"
      ]
     },
     "execution_count": 50,
     "metadata": {},
     "output_type": "execute_result"
    }
   ],
   "source": [
    "dummies2.shape"
   ]
  },
  {
   "cell_type": "code",
   "execution_count": 51,
   "metadata": {},
   "outputs": [],
   "source": [
    "dummies3=dummies2.drop(columns=['Unnamed: 0'])"
   ]
  },
  {
   "cell_type": "code",
   "execution_count": 52,
   "metadata": {},
   "outputs": [
    {
     "data": {
      "text/plain": [
       "(70744, 66)"
      ]
     },
     "execution_count": 52,
     "metadata": {},
     "output_type": "execute_result"
    }
   ],
   "source": [
    "dummies3.shape"
   ]
  },
  {
   "cell_type": "code",
   "execution_count": 53,
   "metadata": {},
   "outputs": [
    {
     "data": {
      "text/plain": [
       "rooms                         0\n",
       "bedrooms                      0\n",
       "bathrooms                     0\n",
       "surface_total                 0\n",
       "surface_covered               0\n",
       "                             ..\n",
       "l3_Villa Urquiza              0\n",
       "l3_Villa del Parque           0\n",
       "property_type_Casa            0\n",
       "property_type_Departamento    0\n",
       "property_type_PH              0\n",
       "Length: 66, dtype: int64"
      ]
     },
     "execution_count": 53,
     "metadata": {},
     "output_type": "execute_result"
    }
   ],
   "source": [
    "dummies3.isna().sum()"
   ]
  },
  {
   "cell_type": "markdown",
   "metadata": {},
   "source": [
    "## Escalado de datos"
   ]
  },
  {
   "cell_type": "markdown",
   "metadata": {},
   "source": [
    "Las variables tienen unidades y medidas diferentes por ende las pasaremos a todas a la misma"
   ]
  },
  {
   "cell_type": "code",
   "execution_count": 54,
   "metadata": {},
   "outputs": [],
   "source": [
    "from sklearn.preprocessing import StandardScaler"
   ]
  },
  {
   "cell_type": "code",
   "execution_count": 55,
   "metadata": {},
   "outputs": [],
   "source": [
    "#ss = StandardScaler()\n",
    "#capfed3 = pd.DataFrame(ss.fit_transform(dummies3),columns = dummies3.columns)"
   ]
  },
  {
   "cell_type": "code",
   "execution_count": 56,
   "metadata": {},
   "outputs": [],
   "source": [
    "media_rooms = dummies3.rooms.mean()\n",
    "desv_rooms = dummies3.rooms.std()\n",
    "dummies3['Datos_Escalados_Rooms'] = (dummies3.rooms - dummies3.rooms.mean())/dummies3.rooms.std(ddof=0)\n",
    "\n",
    "media_bedrooms = dummies3.bedrooms.mean()\n",
    "desv_bedrooms = dummies3.bedrooms.std()\n",
    "dummies3['Datos_Escalados_Bedrooms'] = (dummies3.bedrooms - dummies3.bedrooms.mean())/dummies3.bedrooms.std(ddof=0)\n",
    "\n",
    "media_bathrooms = dummies3.bathrooms.mean()\n",
    "desv_bathrooms = dummies3.bathrooms.std()\n",
    "dummies3['Datos_Escalados_Bathrooms'] = (dummies3.bathrooms - dummies3.bathrooms.mean())/dummies3.bathrooms.std(ddof=0)\n",
    "\n",
    "media_surface_total = dummies3.surface_total.mean()\n",
    "desv_surface_total = dummies3.surface_total.std()\n",
    "dummies3['Datos_Escalados_Surface_Total'] = (dummies3.surface_total - dummies3.surface_total.mean())/dummies3.surface_total.std(ddof=0)\n",
    "\n",
    "media_surface_covered = dummies3.surface_covered.mean()\n",
    "desv_surface_covered = dummies3.surface_covered.std()\n",
    "dummies3['Datos_Escalados_Surface_Covered'] = (dummies3.surface_covered - dummies3.surface_covered.mean())/dummies3.surface_covered.std(ddof=0)\n",
    "\n",
    "#media_price = dummies3.price.mean()\n",
    "#desv_price = dummies3.price.std()\n",
    "#dummies3['Datos_Escalados_Price'] = (dummies3.price - dummies3.price.mean())/dummies3.price.std(ddof=0)"
   ]
  },
  {
   "cell_type": "code",
   "execution_count": 57,
   "metadata": {},
   "outputs": [
    {
     "data": {
      "text/html": [
       "<div>\n",
       "<style scoped>\n",
       "    .dataframe tbody tr th:only-of-type {\n",
       "        vertical-align: middle;\n",
       "    }\n",
       "\n",
       "    .dataframe tbody tr th {\n",
       "        vertical-align: top;\n",
       "    }\n",
       "\n",
       "    .dataframe thead th {\n",
       "        text-align: right;\n",
       "    }\n",
       "</style>\n",
       "<table border=\"1\" class=\"dataframe\">\n",
       "  <thead>\n",
       "    <tr style=\"text-align: right;\">\n",
       "      <th></th>\n",
       "      <th>rooms</th>\n",
       "      <th>bedrooms</th>\n",
       "      <th>bathrooms</th>\n",
       "      <th>surface_total</th>\n",
       "      <th>surface_covered</th>\n",
       "      <th>price</th>\n",
       "      <th>l3_Abasto</th>\n",
       "      <th>l3_Agronomía</th>\n",
       "      <th>l3_Almagro</th>\n",
       "      <th>l3_Balvanera</th>\n",
       "      <th>...</th>\n",
       "      <th>l3_Villa Urquiza</th>\n",
       "      <th>l3_Villa del Parque</th>\n",
       "      <th>property_type_Casa</th>\n",
       "      <th>property_type_Departamento</th>\n",
       "      <th>property_type_PH</th>\n",
       "      <th>Datos_Escalados_Rooms</th>\n",
       "      <th>Datos_Escalados_Bedrooms</th>\n",
       "      <th>Datos_Escalados_Bathrooms</th>\n",
       "      <th>Datos_Escalados_Surface_Total</th>\n",
       "      <th>Datos_Escalados_Surface_Covered</th>\n",
       "    </tr>\n",
       "  </thead>\n",
       "  <tbody>\n",
       "    <tr>\n",
       "      <th>0</th>\n",
       "      <td>2.0</td>\n",
       "      <td>1.0</td>\n",
       "      <td>1.0</td>\n",
       "      <td>68.0</td>\n",
       "      <td>59.0</td>\n",
       "      <td>149000.0</td>\n",
       "      <td>0</td>\n",
       "      <td>0</td>\n",
       "      <td>0</td>\n",
       "      <td>0</td>\n",
       "      <td>...</td>\n",
       "      <td>0</td>\n",
       "      <td>0</td>\n",
       "      <td>0</td>\n",
       "      <td>1</td>\n",
       "      <td>0</td>\n",
       "      <td>-0.608685</td>\n",
       "      <td>-0.814015</td>\n",
       "      <td>-0.557523</td>\n",
       "      <td>0.059276</td>\n",
       "      <td>0.019373</td>\n",
       "    </tr>\n",
       "    <tr>\n",
       "      <th>1</th>\n",
       "      <td>2.0</td>\n",
       "      <td>1.0</td>\n",
       "      <td>1.0</td>\n",
       "      <td>50.0</td>\n",
       "      <td>44.0</td>\n",
       "      <td>115000.0</td>\n",
       "      <td>0</td>\n",
       "      <td>0</td>\n",
       "      <td>0</td>\n",
       "      <td>0</td>\n",
       "      <td>...</td>\n",
       "      <td>0</td>\n",
       "      <td>0</td>\n",
       "      <td>0</td>\n",
       "      <td>1</td>\n",
       "      <td>0</td>\n",
       "      <td>-0.608685</td>\n",
       "      <td>-0.814015</td>\n",
       "      <td>-0.557523</td>\n",
       "      <td>-0.621058</td>\n",
       "      <td>-0.663922</td>\n",
       "    </tr>\n",
       "    <tr>\n",
       "      <th>2</th>\n",
       "      <td>2.0</td>\n",
       "      <td>1.0</td>\n",
       "      <td>1.0</td>\n",
       "      <td>31.0</td>\n",
       "      <td>31.0</td>\n",
       "      <td>75000.0</td>\n",
       "      <td>1</td>\n",
       "      <td>0</td>\n",
       "      <td>0</td>\n",
       "      <td>0</td>\n",
       "      <td>...</td>\n",
       "      <td>0</td>\n",
       "      <td>0</td>\n",
       "      <td>0</td>\n",
       "      <td>1</td>\n",
       "      <td>0</td>\n",
       "      <td>-0.608685</td>\n",
       "      <td>-0.814015</td>\n",
       "      <td>-0.557523</td>\n",
       "      <td>-1.339188</td>\n",
       "      <td>-1.256110</td>\n",
       "    </tr>\n",
       "    <tr>\n",
       "      <th>3</th>\n",
       "      <td>1.0</td>\n",
       "      <td>1.0</td>\n",
       "      <td>1.0</td>\n",
       "      <td>22.0</td>\n",
       "      <td>22.0</td>\n",
       "      <td>48000.0</td>\n",
       "      <td>1</td>\n",
       "      <td>0</td>\n",
       "      <td>0</td>\n",
       "      <td>0</td>\n",
       "      <td>...</td>\n",
       "      <td>0</td>\n",
       "      <td>0</td>\n",
       "      <td>0</td>\n",
       "      <td>1</td>\n",
       "      <td>0</td>\n",
       "      <td>-1.733369</td>\n",
       "      <td>-0.814015</td>\n",
       "      <td>-0.557523</td>\n",
       "      <td>-1.679355</td>\n",
       "      <td>-1.666087</td>\n",
       "    </tr>\n",
       "    <tr>\n",
       "      <th>4</th>\n",
       "      <td>2.0</td>\n",
       "      <td>1.0</td>\n",
       "      <td>1.0</td>\n",
       "      <td>45.0</td>\n",
       "      <td>45.0</td>\n",
       "      <td>95000.0</td>\n",
       "      <td>0</td>\n",
       "      <td>0</td>\n",
       "      <td>0</td>\n",
       "      <td>0</td>\n",
       "      <td>...</td>\n",
       "      <td>0</td>\n",
       "      <td>0</td>\n",
       "      <td>0</td>\n",
       "      <td>1</td>\n",
       "      <td>0</td>\n",
       "      <td>-0.608685</td>\n",
       "      <td>-0.814015</td>\n",
       "      <td>-0.557523</td>\n",
       "      <td>-0.810040</td>\n",
       "      <td>-0.618369</td>\n",
       "    </tr>\n",
       "  </tbody>\n",
       "</table>\n",
       "<p>5 rows × 71 columns</p>\n",
       "</div>"
      ],
      "text/plain": [
       "   rooms  bedrooms  bathrooms  surface_total  surface_covered     price  \\\n",
       "0    2.0       1.0        1.0           68.0             59.0  149000.0   \n",
       "1    2.0       1.0        1.0           50.0             44.0  115000.0   \n",
       "2    2.0       1.0        1.0           31.0             31.0   75000.0   \n",
       "3    1.0       1.0        1.0           22.0             22.0   48000.0   \n",
       "4    2.0       1.0        1.0           45.0             45.0   95000.0   \n",
       "\n",
       "   l3_Abasto  l3_Agronomía  l3_Almagro  l3_Balvanera  ...  l3_Villa Urquiza  \\\n",
       "0          0             0           0             0  ...                 0   \n",
       "1          0             0           0             0  ...                 0   \n",
       "2          1             0           0             0  ...                 0   \n",
       "3          1             0           0             0  ...                 0   \n",
       "4          0             0           0             0  ...                 0   \n",
       "\n",
       "   l3_Villa del Parque  property_type_Casa  property_type_Departamento  \\\n",
       "0                    0                   0                           1   \n",
       "1                    0                   0                           1   \n",
       "2                    0                   0                           1   \n",
       "3                    0                   0                           1   \n",
       "4                    0                   0                           1   \n",
       "\n",
       "   property_type_PH  Datos_Escalados_Rooms  Datos_Escalados_Bedrooms  \\\n",
       "0                 0              -0.608685                 -0.814015   \n",
       "1                 0              -0.608685                 -0.814015   \n",
       "2                 0              -0.608685                 -0.814015   \n",
       "3                 0              -1.733369                 -0.814015   \n",
       "4                 0              -0.608685                 -0.814015   \n",
       "\n",
       "   Datos_Escalados_Bathrooms  Datos_Escalados_Surface_Total  \\\n",
       "0                  -0.557523                       0.059276   \n",
       "1                  -0.557523                      -0.621058   \n",
       "2                  -0.557523                      -1.339188   \n",
       "3                  -0.557523                      -1.679355   \n",
       "4                  -0.557523                      -0.810040   \n",
       "\n",
       "   Datos_Escalados_Surface_Covered  \n",
       "0                         0.019373  \n",
       "1                        -0.663922  \n",
       "2                        -1.256110  \n",
       "3                        -1.666087  \n",
       "4                        -0.618369  \n",
       "\n",
       "[5 rows x 71 columns]"
      ]
     },
     "execution_count": 57,
     "metadata": {},
     "output_type": "execute_result"
    }
   ],
   "source": [
    "dummies3.head()"
   ]
  },
  {
   "cell_type": "code",
   "execution_count": 58,
   "metadata": {},
   "outputs": [
    {
     "data": {
      "text/plain": [
       "(70744, 71)"
      ]
     },
     "execution_count": 58,
     "metadata": {},
     "output_type": "execute_result"
    }
   ],
   "source": [
    "dummies3.shape"
   ]
  },
  {
   "cell_type": "code",
   "execution_count": 59,
   "metadata": {},
   "outputs": [
    {
     "data": {
      "text/plain": [
       "(70744, 66)"
      ]
     },
     "execution_count": 59,
     "metadata": {},
     "output_type": "execute_result"
    }
   ],
   "source": [
    "# Eliminación de las variables originales no escaladas\n",
    "capfed3 = dummies3.drop(['rooms','bedrooms','bathrooms','surface_total','surface_covered'], axis=1) #ver si agrego 'price'\n",
    "capfed3.shape"
   ]
  },
  {
   "cell_type": "code",
   "execution_count": 60,
   "metadata": {},
   "outputs": [
    {
     "data": {
      "text/plain": [
       "pandas.core.frame.DataFrame"
      ]
     },
     "execution_count": 60,
     "metadata": {},
     "output_type": "execute_result"
    }
   ],
   "source": [
    "type(capfed3)"
   ]
  },
  {
   "cell_type": "code",
   "execution_count": 61,
   "metadata": {},
   "outputs": [
    {
     "data": {
      "text/html": [
       "<div>\n",
       "<style scoped>\n",
       "    .dataframe tbody tr th:only-of-type {\n",
       "        vertical-align: middle;\n",
       "    }\n",
       "\n",
       "    .dataframe tbody tr th {\n",
       "        vertical-align: top;\n",
       "    }\n",
       "\n",
       "    .dataframe thead th {\n",
       "        text-align: right;\n",
       "    }\n",
       "</style>\n",
       "<table border=\"1\" class=\"dataframe\">\n",
       "  <thead>\n",
       "    <tr style=\"text-align: right;\">\n",
       "      <th></th>\n",
       "      <th>price</th>\n",
       "      <th>l3_Abasto</th>\n",
       "      <th>l3_Agronomía</th>\n",
       "      <th>l3_Almagro</th>\n",
       "      <th>l3_Balvanera</th>\n",
       "      <th>l3_Barracas</th>\n",
       "      <th>l3_Barrio Norte</th>\n",
       "      <th>l3_Belgrano</th>\n",
       "      <th>l3_Boca</th>\n",
       "      <th>l3_Boedo</th>\n",
       "      <th>...</th>\n",
       "      <th>l3_Villa Urquiza</th>\n",
       "      <th>l3_Villa del Parque</th>\n",
       "      <th>property_type_Casa</th>\n",
       "      <th>property_type_Departamento</th>\n",
       "      <th>property_type_PH</th>\n",
       "      <th>Datos_Escalados_Rooms</th>\n",
       "      <th>Datos_Escalados_Bedrooms</th>\n",
       "      <th>Datos_Escalados_Bathrooms</th>\n",
       "      <th>Datos_Escalados_Surface_Total</th>\n",
       "      <th>Datos_Escalados_Surface_Covered</th>\n",
       "    </tr>\n",
       "  </thead>\n",
       "  <tbody>\n",
       "    <tr>\n",
       "      <th>0</th>\n",
       "      <td>149000.0</td>\n",
       "      <td>0</td>\n",
       "      <td>0</td>\n",
       "      <td>0</td>\n",
       "      <td>0</td>\n",
       "      <td>0</td>\n",
       "      <td>0</td>\n",
       "      <td>0</td>\n",
       "      <td>0</td>\n",
       "      <td>1</td>\n",
       "      <td>...</td>\n",
       "      <td>0</td>\n",
       "      <td>0</td>\n",
       "      <td>0</td>\n",
       "      <td>1</td>\n",
       "      <td>0</td>\n",
       "      <td>-0.608685</td>\n",
       "      <td>-0.814015</td>\n",
       "      <td>-0.557523</td>\n",
       "      <td>0.059276</td>\n",
       "      <td>0.019373</td>\n",
       "    </tr>\n",
       "    <tr>\n",
       "      <th>1</th>\n",
       "      <td>115000.0</td>\n",
       "      <td>0</td>\n",
       "      <td>0</td>\n",
       "      <td>0</td>\n",
       "      <td>0</td>\n",
       "      <td>0</td>\n",
       "      <td>0</td>\n",
       "      <td>0</td>\n",
       "      <td>0</td>\n",
       "      <td>1</td>\n",
       "      <td>...</td>\n",
       "      <td>0</td>\n",
       "      <td>0</td>\n",
       "      <td>0</td>\n",
       "      <td>1</td>\n",
       "      <td>0</td>\n",
       "      <td>-0.608685</td>\n",
       "      <td>-0.814015</td>\n",
       "      <td>-0.557523</td>\n",
       "      <td>-0.621058</td>\n",
       "      <td>-0.663922</td>\n",
       "    </tr>\n",
       "    <tr>\n",
       "      <th>2</th>\n",
       "      <td>75000.0</td>\n",
       "      <td>1</td>\n",
       "      <td>0</td>\n",
       "      <td>0</td>\n",
       "      <td>0</td>\n",
       "      <td>0</td>\n",
       "      <td>0</td>\n",
       "      <td>0</td>\n",
       "      <td>0</td>\n",
       "      <td>0</td>\n",
       "      <td>...</td>\n",
       "      <td>0</td>\n",
       "      <td>0</td>\n",
       "      <td>0</td>\n",
       "      <td>1</td>\n",
       "      <td>0</td>\n",
       "      <td>-0.608685</td>\n",
       "      <td>-0.814015</td>\n",
       "      <td>-0.557523</td>\n",
       "      <td>-1.339188</td>\n",
       "      <td>-1.256110</td>\n",
       "    </tr>\n",
       "    <tr>\n",
       "      <th>3</th>\n",
       "      <td>48000.0</td>\n",
       "      <td>1</td>\n",
       "      <td>0</td>\n",
       "      <td>0</td>\n",
       "      <td>0</td>\n",
       "      <td>0</td>\n",
       "      <td>0</td>\n",
       "      <td>0</td>\n",
       "      <td>0</td>\n",
       "      <td>0</td>\n",
       "      <td>...</td>\n",
       "      <td>0</td>\n",
       "      <td>0</td>\n",
       "      <td>0</td>\n",
       "      <td>1</td>\n",
       "      <td>0</td>\n",
       "      <td>-1.733369</td>\n",
       "      <td>-0.814015</td>\n",
       "      <td>-0.557523</td>\n",
       "      <td>-1.679355</td>\n",
       "      <td>-1.666087</td>\n",
       "    </tr>\n",
       "    <tr>\n",
       "      <th>4</th>\n",
       "      <td>95000.0</td>\n",
       "      <td>0</td>\n",
       "      <td>0</td>\n",
       "      <td>0</td>\n",
       "      <td>0</td>\n",
       "      <td>0</td>\n",
       "      <td>0</td>\n",
       "      <td>0</td>\n",
       "      <td>0</td>\n",
       "      <td>0</td>\n",
       "      <td>...</td>\n",
       "      <td>0</td>\n",
       "      <td>0</td>\n",
       "      <td>0</td>\n",
       "      <td>1</td>\n",
       "      <td>0</td>\n",
       "      <td>-0.608685</td>\n",
       "      <td>-0.814015</td>\n",
       "      <td>-0.557523</td>\n",
       "      <td>-0.810040</td>\n",
       "      <td>-0.618369</td>\n",
       "    </tr>\n",
       "  </tbody>\n",
       "</table>\n",
       "<p>5 rows × 66 columns</p>\n",
       "</div>"
      ],
      "text/plain": [
       "      price  l3_Abasto  l3_Agronomía  l3_Almagro  l3_Balvanera  l3_Barracas  \\\n",
       "0  149000.0          0             0           0             0            0   \n",
       "1  115000.0          0             0           0             0            0   \n",
       "2   75000.0          1             0           0             0            0   \n",
       "3   48000.0          1             0           0             0            0   \n",
       "4   95000.0          0             0           0             0            0   \n",
       "\n",
       "   l3_Barrio Norte  l3_Belgrano  l3_Boca  l3_Boedo  ...  l3_Villa Urquiza  \\\n",
       "0                0            0        0         1  ...                 0   \n",
       "1                0            0        0         1  ...                 0   \n",
       "2                0            0        0         0  ...                 0   \n",
       "3                0            0        0         0  ...                 0   \n",
       "4                0            0        0         0  ...                 0   \n",
       "\n",
       "   l3_Villa del Parque  property_type_Casa  property_type_Departamento  \\\n",
       "0                    0                   0                           1   \n",
       "1                    0                   0                           1   \n",
       "2                    0                   0                           1   \n",
       "3                    0                   0                           1   \n",
       "4                    0                   0                           1   \n",
       "\n",
       "   property_type_PH  Datos_Escalados_Rooms  Datos_Escalados_Bedrooms  \\\n",
       "0                 0              -0.608685                 -0.814015   \n",
       "1                 0              -0.608685                 -0.814015   \n",
       "2                 0              -0.608685                 -0.814015   \n",
       "3                 0              -1.733369                 -0.814015   \n",
       "4                 0              -0.608685                 -0.814015   \n",
       "\n",
       "   Datos_Escalados_Bathrooms  Datos_Escalados_Surface_Total  \\\n",
       "0                  -0.557523                       0.059276   \n",
       "1                  -0.557523                      -0.621058   \n",
       "2                  -0.557523                      -1.339188   \n",
       "3                  -0.557523                      -1.679355   \n",
       "4                  -0.557523                      -0.810040   \n",
       "\n",
       "   Datos_Escalados_Surface_Covered  \n",
       "0                         0.019373  \n",
       "1                        -0.663922  \n",
       "2                        -1.256110  \n",
       "3                        -1.666087  \n",
       "4                        -0.618369  \n",
       "\n",
       "[5 rows x 66 columns]"
      ]
     },
     "execution_count": 61,
     "metadata": {},
     "output_type": "execute_result"
    }
   ],
   "source": [
    "capfed3.head()"
   ]
  },
  {
   "cell_type": "markdown",
   "metadata": {},
   "source": [
    "## Reentrenamiento de modelos Sprint 1"
   ]
  },
  {
   "cell_type": "code",
   "execution_count": 62,
   "metadata": {},
   "outputs": [],
   "source": [
    "from sklearn.model_selection import train_test_split\n",
    "from sklearn.linear_model import LinearRegression\n",
    "from sklearn.tree import DecisionTreeRegressor\n",
    "from sklearn.neighbors import KNeighborsRegressor\n",
    "from sklearn.metrics import r2_score"
   ]
  },
  {
   "cell_type": "code",
   "execution_count": 63,
   "metadata": {},
   "outputs": [],
   "source": [
    "#variables a predecir\n",
    "X = capfed3.drop(['price'],axis=1)\n",
    "y = capfed3.price"
   ]
  },
  {
   "cell_type": "code",
   "execution_count": 64,
   "metadata": {},
   "outputs": [],
   "source": [
    "X_train, X_test, y_train, y_test= train_test_split(X, y, train_size=.7, random_state = 42)"
   ]
  },
  {
   "cell_type": "code",
   "execution_count": 65,
   "metadata": {},
   "outputs": [
    {
     "name": "stdout",
     "output_type": "stream",
     "text": [
      "Son 49520 datos para entrenamiento y 21224 datos para evaluación\n"
     ]
    }
   ],
   "source": [
    "#Impresión de la distribución de los datos\n",
    "print('Son {} datos para entrenamiento y {} datos para evaluación'.format(X_train.shape[0], X_test.shape[0]))"
   ]
  },
  {
   "cell_type": "code",
   "execution_count": null,
   "metadata": {},
   "outputs": [],
   "source": [
    "#Definición de los modelos\n",
    "linear_model = LinearRegression()\n",
    "tree_regressor = DecisionTreeRegressor(max_depth=5, random_state=42)\n",
    "knn_regressor = KNeighborsRegressor(n_neighbors=20)\n",
    "\n",
    "#Entrenamiento de los modelos\n",
    "linear_model.fit(X_train, y_train)\n",
    "tree_regressor.fit(X_train, y_train)\n",
    "knn_regressor.fit(X_train, y_train)"
   ]
  },
  {
   "cell_type": "code",
   "execution_count": null,
   "metadata": {},
   "outputs": [],
   "source": [
    "#Evaluación de los modelos y entrenamiento\n",
    "modelos = ['Regresión lineal','Árbol de Decisión', 'Vecinos más cercanos']\n",
    "\n",
    "for i, model in enumerate([linear_model,tree_regressor, knn_regressor]):\n",
    "    y_train_pred = model.predict(X_train)\n",
    "    y_test_pred = model.predict(X_test)\n",
    "    #calculamos el error muestral\n",
    "    print(f'Modelo con preprocesamiento de datos: {modelos[i]}')\n",
    "    rmse_train = np.sqrt(mean_squared_error(y_train, y_train_pred))\n",
    "    rmse_test = np.sqrt(mean_squared_error(y_test, y_test_pred))\n",
    "    print(f'Raíz del error cuadrático medio en Train: {rmse_train}')\n",
    "    print(f'Raíz del error cuadrático medio en Test: {rmse_test}')\n",
    "    r2_train = r2_score(y_train, y_train_pred)\n",
    "    r2_test = r2_score(y_test, y_test_pred)\n",
    "    print(f'r2 en Train: {r2_train}')\n",
    "    print(f'r2 en Test: {r2_test}')"
   ]
  },
  {
   "cell_type": "code",
   "execution_count": null,
   "metadata": {},
   "outputs": [],
   "source": [
    "#Gráfico de valores reales vs valores predichos para cada modelo\n",
    "modelos = ['Regresión lineal','Árbol de Decisión', 'Vecinos más cercanos']\n",
    "\n",
    "for i, model in enumerate([linear_model,tree_regressor, knn_regressor]):\n",
    "    y_train_pred = model.predict(X_train)\n",
    "    y_test_pred = model.predict(X_test)\n",
    "\n",
    "    plt.figure(figsize = (12,6))\n",
    "\n",
    "    plt.subplot(1,2,1)\n",
    "    sns.distplot(y_train - y_train_pred, bins = 20, label = 'train')\n",
    "    sns.distplot(y_test - y_test_pred, bins = 20, label = 'test')\n",
    "    plt.xlabel('errores')\n",
    "    plt.legend()\n",
    "    plt.title(f'{modelos[i]}: Densidad de errores',fontsize=14)\n",
    "\n",
    "\n",
    "    ax = plt.subplot(1,2,2)\n",
    "    ax.scatter(y_test,y_test_pred, s =2)\n",
    "    \n",
    "    lims = [\n",
    "    np.min([ax.get_xlim(), ax.get_ylim()]),\n",
    "    np.max([ax.get_xlim(), ax.get_ylim()]),\n",
    "    ]\n",
    "    \n",
    "    ax.plot(lims, lims, 'k-', alpha=0.75, zorder=0)\n",
    "    plt.xlabel('y (test)')\n",
    "    plt.ylabel('y_pred (test)')\n",
    "    plt.title(f'{modelos[i]}: Valores reales vs predichos',fontsize=14)\n",
    "    \n",
    "    plt.tight_layout()\n",
    "    plt.show()\n",
    "    \n",
    "    print(f'Modelo: {modelos[i]}')"
   ]
  },
  {
   "cell_type": "markdown",
   "metadata": {},
   "source": [
    "## Sprint 1 vs Sprint 2"
   ]
  },
  {
   "cell_type": "markdown",
   "metadata": {},
   "source": [
    "Regresion lineal Sprint 1\n",
    "- Raíz del error cuadrático medio en Train: 183329.0530509315\n",
    "- Raíz del error cuadrático medio en Test: 202035.42637218724\n",
    "\n",
    "Regresion lineal Sprint 2\n",
    "- Raíz del error cuadrático medio en Train: 43206.13125519408\n",
    "- Raíz del error cuadrático medio en Test: 42753.71400151132\n",
    "\n",
    "Arbol de desiciion Sprint 1\n",
    "- Raíz del error cuadrático medio en Train: 102330.82833845771\n",
    "- Raíz del error cuadrático medio en Test: 158323.8144671286\n",
    "\n",
    "Arbol de desiciion Sprint 2\n",
    "- Raíz del error cuadrático medio en Train: 50962.224081265835\n",
    "- Raíz del error cuadrático medio en Test: 50539.81622629072\n",
    "\n",
    "KN Neighbours Sprint 1\n",
    "- Raíz del error cuadrático medio en Train: 137458.03048357266\n",
    "- Raíz del error cuadrático medio en Test: 166490.68927656364\n",
    "\n",
    "KN Neighbours Sprint 2\n",
    "- Raíz del error cuadrático medio en Train: 36844.67866927511\n",
    "- Raíz del error cuadrático medio en Test: 38172.1047369364\n",
    "\n",
    "\n",
    "Todos los modelos han mejorado sustancialmente en este segundo proyecto. confirmo mi hipotesis que decia que los filtros aplicados seguramente hacian que los errores medios sean tan altos"
   ]
  },
  {
   "cell_type": "markdown",
   "metadata": {},
   "source": [
    "## Parte B Modelos Avanzados"
   ]
  },
  {
   "cell_type": "markdown",
   "metadata": {},
   "source": [
    "## B.1 Regresion lineal Avanzada"
   ]
  },
  {
   "cell_type": "code",
   "execution_count": 66,
   "metadata": {},
   "outputs": [],
   "source": [
    "#variables a predecir\n",
    "X = capfed3.drop(['price'],axis=1)\n",
    "y = capfed3.price"
   ]
  },
  {
   "cell_type": "code",
   "execution_count": 67,
   "metadata": {},
   "outputs": [],
   "source": [
    "#División del dataset entre datos de entrenamiento y datos de testeo\n",
    "X_train, X_test, y_train, y_test= train_test_split(X, y, train_size=.7, random_state = 42)"
   ]
  },
  {
   "cell_type": "code",
   "execution_count": 68,
   "metadata": {},
   "outputs": [],
   "source": [
    "from sklearn.linear_model import LinearRegression"
   ]
  },
  {
   "cell_type": "code",
   "execution_count": 71,
   "metadata": {},
   "outputs": [],
   "source": [
    "reg_1 = LinearRegression()\n",
    "reg_1.fit(X_train, y_train)\n",
    "y_train_pred_1 = reg_1.predict(X_train)\n",
    "y_test_pred_1 = reg_1.predict(X_test)"
   ]
  },
  {
   "cell_type": "code",
   "execution_count": 72,
   "metadata": {},
   "outputs": [
    {
     "name": "stdout",
     "output_type": "stream",
     "text": [
      "Raíz del error cuadrático medio en Train: 43206.13125519408\n",
      "Raíz del error cuadrático medio en Test: 42753.71400151132\n",
      "r2 en Train: 0.7304343503174586\n",
      "r2 en Test: 0.7296163963433828\n"
     ]
    },
    {
     "name": "stderr",
     "output_type": "stream",
     "text": [
      "/Users/macarenatoledo/opt/miniconda3/envs/datascience/lib/python3.9/site-packages/seaborn/distributions.py:2557: FutureWarning: `distplot` is a deprecated function and will be removed in a future version. Please adapt your code to use either `displot` (a figure-level function with similar flexibility) or `histplot` (an axes-level function for histograms).\n",
      "  warnings.warn(msg, FutureWarning)\n",
      "/Users/macarenatoledo/opt/miniconda3/envs/datascience/lib/python3.9/site-packages/seaborn/distributions.py:2557: FutureWarning: `distplot` is a deprecated function and will be removed in a future version. Please adapt your code to use either `displot` (a figure-level function with similar flexibility) or `histplot` (an axes-level function for histograms).\n",
      "  warnings.warn(msg, FutureWarning)\n"
     ]
    },
    {
     "data": {
      "image/png": "[encoded data removed]",
      "text/plain": [
       "<Figure size 576x288 with 2 Axes>"
      ]
     },
     "metadata": {},
     "output_type": "display_data"
    }
   ],
   "source": [
    "from sklearn.metrics import mean_squared_error\n",
    "\n",
    "rmse_train = np.sqrt(mean_squared_error(y_train, y_train_pred_1))\n",
    "rmse_test = np.sqrt(mean_squared_error(y_test, y_test_pred_1))\n",
    "print(f'Raíz del error cuadrático medio en Train: {rmse_train}')\n",
    "print(f'Raíz del error cuadrático medio en Test: {rmse_test}')\n",
    "\n",
    "r2_train = r2_score(y_train, y_train_pred_1)\n",
    "r2_test = r2_score(y_test, y_test_pred_1)\n",
    "\n",
    "print(f'r2 en Train: {r2_train}')\n",
    "print(f'r2 en Test: {r2_test}')\n",
    "\n",
    "plt.figure(figsize = (8,4))\n",
    "\n",
    "plt.subplot(1,2,1)\n",
    "sns.distplot(y_train - y_train_pred_1, bins = 20, label = 'train')\n",
    "sns.distplot(y_test - y_test_pred_1, bins = 20, label = 'test')\n",
    "plt.xlabel('errores')\n",
    "plt.legend()\n",
    "\n",
    "\n",
    "ax = plt.subplot(1,2,2)\n",
    "ax.scatter(y_test,y_test_pred_1, s =2)\n",
    "\n",
    "lims = [\n",
    "np.min([ax.get_xlim(), ax.get_ylim()]),  # min of both axes\n",
    "np.max([ax.get_xlim(), ax.get_ylim()]),  # max of both axes]\n",
    "]\n",
    "\n",
    "ax.plot(lims, lims, 'k-', alpha=0.75, zorder=0)\n",
    "plt.xlabel('y (test)')\n",
    "plt.ylabel('y_pred (test)')\n",
    "\n",
    "plt.tight_layout()\n",
    "plt.show()"
   ]
  },
  {
   "cell_type": "markdown",
   "metadata": {},
   "source": [
    "## B.1.1 polynomial features"
   ]
  },
  {
   "cell_type": "code",
   "execution_count": 73,
   "metadata": {},
   "outputs": [],
   "source": [
    "X = capfed3.drop(['price'],axis=1)\n",
    "y = capfed3.price"
   ]
  },
  {
   "cell_type": "code",
   "execution_count": 74,
   "metadata": {},
   "outputs": [],
   "source": [
    "X_train, X_test, y_train, y_test= train_test_split(X, y, train_size=.7, random_state = 42)"
   ]
  },
  {
   "cell_type": "code",
   "execution_count": 75,
   "metadata": {},
   "outputs": [],
   "source": [
    "from sklearn.preprocessing import PolynomialFeatures"
   ]
  },
  {
   "cell_type": "code",
   "execution_count": 77,
   "metadata": {},
   "outputs": [
    {
     "name": "stdout",
     "output_type": "stream",
     "text": [
      "(49520, 2211) (21224, 2211)\n"
     ]
    }
   ],
   "source": [
    "poly = PolynomialFeatures() \n",
    "X_train_new = poly.fit_transform(X_train)\n",
    "X_test_new = poly.fit_transform(X_test)\n",
    "print(X_train_new.shape, X_test_new.shape)\n"
   ]
  },
  {
   "cell_type": "code",
   "execution_count": 78,
   "metadata": {},
   "outputs": [
    {
     "name": "stdout",
     "output_type": "stream",
     "text": [
      "[-6.32282614e+11  4.87445896e+15  3.33563542e+15 ... -1.04056250e+04\n",
      "  6.43425000e+03 -1.61675000e+03] 65319532378035.63\n"
     ]
    }
   ],
   "source": [
    "reg_2 = LinearRegression()\n",
    "reg_2.fit(X_train_new, y_train)\n",
    "print(reg_2.coef_, reg_2.intercept_)\n",
    "y_train_pred_2 = reg_2.predict(X_train_new)\n",
    "y_test_pred_2 = reg_2.predict(X_test_new)"
   ]
  },
  {
   "cell_type": "code",
   "execution_count": 79,
   "metadata": {},
   "outputs": [
    {
     "name": "stdout",
     "output_type": "stream",
     "text": [
      "Raíz del error cuadrático medio en Train: 40094.723096267706\n",
      "Raíz del error cuadrático medio en Test: 1866808591212.485\n",
      "r2 en Train: 0.7678609378099165\n",
      "r2 en Test: -515504235981313.06\n"
     ]
    }
   ],
   "source": [
    "# Evaluación del modelo de regresión lineal\n",
    "y_train_pred_2 = reg_2.predict(X_train_new)\n",
    "y_test_pred_2 = reg_2.predict(X_test_new)\n",
    "\n",
    "rmse_train = np.sqrt(mean_squared_error(y_train, y_train_pred_2))\n",
    "rmse_test = np.sqrt(mean_squared_error(y_test, y_test_pred_2))\n",
    "\n",
    "print(f'Raíz del error cuadrático medio en Train: {rmse_train}')\n",
    "print(f'Raíz del error cuadrático medio en Test: {rmse_test}')\n",
    "\n",
    "r2_train = r2_score(y_train, y_train_pred_2)\n",
    "r2_test = r2_score(y_test, y_test_pred_2)\n",
    "\n",
    "print(f'r2 en Train: {r2_train}')\n",
    "print(f'r2 en Test: {r2_test}')"
   ]
  },
  {
   "cell_type": "markdown",
   "metadata": {},
   "source": [
    "## B.1.2 Regularizacion - lasso"
   ]
  },
  {
   "cell_type": "code",
   "execution_count": 80,
   "metadata": {},
   "outputs": [],
   "source": [
    "from sklearn.linear_model import Ridge, Lasso"
   ]
  },
  {
   "cell_type": "code",
   "execution_count": 81,
   "metadata": {},
   "outputs": [],
   "source": [
    "X = capfed3.drop(['price'],axis=1)\n",
    "y = capfed3.price"
   ]
  },
  {
   "cell_type": "code",
   "execution_count": 82,
   "metadata": {},
   "outputs": [],
   "source": [
    "X_train, X_test, y_train, y_test= train_test_split(X, y, train_size=.7, random_state = 42)"
   ]
  },
  {
   "cell_type": "code",
   "execution_count": 83,
   "metadata": {},
   "outputs": [
    {
     "name": "stderr",
     "output_type": "stream",
     "text": [
      "/Users/macarenatoledo/opt/miniconda3/envs/datascience/lib/python3.9/site-packages/sklearn/linear_model/_coordinate_descent.py:530: ConvergenceWarning: Objective did not converge. You might want to increase the number of iterations. Duality gap: 32558924112862.906, tolerance: 34293108011.89244\n",
      "  model = cd_fast.enet_coordinate_descent(\n"
     ]
    },
    {
     "name": "stdout",
     "output_type": "stream",
     "text": [
      "[     0.           4007.76102464   4632.65365246 ... -10390.8084305\n",
      "   6380.37192941  -1570.55263068] 143663.8500011098\n"
     ]
    }
   ],
   "source": [
    "# Definición y entrenamiento de la regresión con regularización Lasso\n",
    "reg_lasso = Lasso()\n",
    "reg_lasso.fit(X_train_new,y_train)\n",
    "\n",
    "# Impresión de los coeficientes del nuevo modelo\n",
    "print(reg_lasso.coef_, reg_lasso.intercept_)\n",
    "y_train_pred_lasso = reg_lasso.predict(X_train_new)\n",
    "y_test_pred_lasso = reg_lasso.predict(X_test_new)"
   ]
  },
  {
   "cell_type": "code",
   "execution_count": 85,
   "metadata": {},
   "outputs": [],
   "source": [
    "y_train_pred_lasso = reg_lasso.predict(X_train_new)\n",
    "y_test_pred_lasso = reg_lasso.predict(X_test_new)"
   ]
  },
  {
   "cell_type": "code",
   "execution_count": 86,
   "metadata": {},
   "outputs": [
    {
     "name": "stdout",
     "output_type": "stream",
     "text": [
      "Raíz del error cuadrático medio en Train: 40107.66809569124\n",
      "Raíz del error cuadrático medio en Test: 39873.561374825076\n",
      "r2 cuadrático medio en Train: 0.7677110165784733\n",
      "r2 medio en Test: 0.764818741065109\n"
     ]
    }
   ],
   "source": [
    "rmse_train_lasso = np.sqrt(mean_squared_error(y_train, y_train_pred_lasso))\n",
    "rmse_test_lasso = np.sqrt(mean_squared_error(y_test, y_test_pred_lasso))\n",
    "print(f'Raíz del error cuadrático medio en Train: {rmse_train_lasso}')\n",
    "print(f'Raíz del error cuadrático medio en Test: {rmse_test_lasso}')\n",
    "\n",
    "r2_train = r2_score(y_train, y_train_pred_lasso)\n",
    "r2_test = r2_score(y_test, y_test_pred_lasso)\n",
    "print(f'r2 cuadrático medio en Train: {r2_train}')\n",
    "print(f'r2 medio en Test: {r2_test}')\n"
   ]
  },
  {
   "cell_type": "markdown",
   "metadata": {},
   "source": [
    "## Conclusion Reg Avanzada"
   ]
  },
  {
   "cell_type": "markdown",
   "metadata": {},
   "source": [
    "Vemos como con la regularizacion lasso mejora el r2 y el error cuadratico"
   ]
  },
  {
   "cell_type": "markdown",
   "metadata": {},
   "source": [
    "## Random Forest"
   ]
  },
  {
   "cell_type": "code",
   "execution_count": 88,
   "metadata": {},
   "outputs": [],
   "source": [
    "from sklearn.ensemble import RandomForestRegressor"
   ]
  },
  {
   "cell_type": "code",
   "execution_count": 89,
   "metadata": {},
   "outputs": [],
   "source": [
    "#variables a predecir\n",
    "X = capfed3.drop(['price'],axis=1)\n",
    "y = capfed3.price"
   ]
  },
  {
   "cell_type": "code",
   "execution_count": 90,
   "metadata": {},
   "outputs": [],
   "source": [
    "X_train, X_test, y_train, y_test= train_test_split(X, y, train_size=.7, random_state = 42)"
   ]
  },
  {
   "cell_type": "code",
   "execution_count": 91,
   "metadata": {},
   "outputs": [
    {
     "data": {
      "text/plain": [
       "RandomForestRegressor()"
      ]
     },
     "execution_count": 91,
     "metadata": {},
     "output_type": "execute_result"
    }
   ],
   "source": [
    "# Defición y entrenamiento del modelo\n",
    "rfr = RandomForestRegressor()\n",
    "rfr.fit(X_train,y_train)"
   ]
  },
  {
   "cell_type": "code",
   "execution_count": 92,
   "metadata": {},
   "outputs": [],
   "source": [
    "# Predicción de los valores tanto para train como para test\n",
    "y_train_pred = rfr.predict(X_train)\n",
    "y_test_pred = rfr.predict(X_test)"
   ]
  },
  {
   "cell_type": "code",
   "execution_count": 93,
   "metadata": {},
   "outputs": [
    {
     "data": {
      "text/plain": [
       "array([4.36616515e-04, 1.73395624e-04, 3.50552369e-03, 3.06438460e-03,\n",
       "       1.76838810e-03, 1.16527047e-02, 2.30249616e-02, 7.78861478e-04,\n",
       "       6.16461616e-04, 4.58982863e-03, 1.18681628e-05, 4.15456330e-04,\n",
       "       8.52736225e-04, 1.80360411e-03, 3.79184592e-03, 7.71808272e-04,\n",
       "       1.26775879e-03, 2.49548424e-03, 1.03538283e-03, 7.05607719e-03,\n",
       "       1.15516577e-03, 8.70901586e-04, 6.87169393e-04, 5.78732962e-04,\n",
       "       1.01324881e-02, 1.10466027e-03, 3.82582448e-02, 4.80986110e-04,\n",
       "       1.14057256e-03, 1.03416138e-03, 4.50315238e-04, 4.57346322e-04,\n",
       "       1.03593554e-03, 4.82868732e-04, 3.36386501e-02, 2.04683425e-02,\n",
       "       2.67152734e-03, 1.73004511e-03, 1.63181319e-03, 7.86836885e-04,\n",
       "       1.02159359e-03, 1.88365057e-04, 1.42384128e-04, 1.71712113e-04,\n",
       "       2.91744081e-03, 2.02785581e-03, 2.06022486e-04, 3.07526913e-03,\n",
       "       6.84959672e-04, 5.39402220e-04, 7.30915990e-04, 3.05589374e-04,\n",
       "       2.07501555e-04, 2.46471408e-04, 6.25429319e-04, 6.51183974e-03,\n",
       "       1.09949844e-03, 6.27531197e-04, 9.29660242e-03, 4.73306422e-03,\n",
       "       1.39666453e-02, 1.25158726e-02, 4.86029763e-02, 2.79053075e-01,\n",
       "       4.22592070e-01])"
      ]
     },
     "execution_count": 93,
     "metadata": {},
     "output_type": "execute_result"
    }
   ],
   "source": [
    "# Impresión de la importancia de cada variable en la tarea de regresión\n",
    "rfr.feature_importances_"
   ]
  },
  {
   "cell_type": "code",
   "execution_count": 95,
   "metadata": {},
   "outputs": [
    {
     "name": "stderr",
     "output_type": "stream",
     "text": [
      "/Users/macarenatoledo/opt/miniconda3/envs/datascience/lib/python3.9/site-packages/seaborn/_decorators.py:36: FutureWarning: Pass the following variables as keyword args: x, y. From version 0.12, the only valid positional argument will be `data`, and passing other arguments without an explicit keyword will result in an error or misinterpretation.\n",
      "  warnings.warn(\n"
     ]
    },
    {
     "data": {
      "image/png": "[encoded data removed]",
      "text/plain": [
       "<Figure size 1080x576 with 1 Axes>"
      ]
     },
     "metadata": {},
     "output_type": "display_data"
    }
   ],
   "source": [
    "# Gráfico de la importancia de cada variable en la tarea de regresión\n",
    "importances = rfr.feature_importances_\n",
    "columns = X_train.columns\n",
    "indices = np.argsort(importances)[::-1]\n",
    "\n",
    "plt.figure(figsize = (15,8))\n",
    "plt.title ('Importancia de cada variable en la tarea de regresión')\n",
    "plt.ylabel('Importancia')\n",
    "plt.xlabel('Variables')\n",
    "chart = sns.barplot(columns[indices], importances[indices])\n",
    "chart.set_xticklabels(chart.get_xticklabels(),rotation=45,horizontalalignment='right');\n",
    "plt.show()"
   ]
  },
  {
   "cell_type": "code",
   "execution_count": 96,
   "metadata": {},
   "outputs": [
    {
     "name": "stdout",
     "output_type": "stream",
     "text": [
      "Raíz del error cuadrático medio en Train: 20807.913226350098\n",
      "Raíz del error cuadrático medio en Test: 32488.5864431319\n",
      "r2 en Train: 0.9374782904105119\n",
      "r2 en Test: 0.8438671496151176\n"
     ]
    }
   ],
   "source": [
    "#Evaluación del Random Forest\n",
    "\n",
    "rmse_train = np.sqrt(mean_squared_error(y_train, y_train_pred))\n",
    "rmse_test = np.sqrt(mean_squared_error(y_test, y_test_pred))\n",
    "\n",
    "print(f'Raíz del error cuadrático medio en Train: {rmse_train}')\n",
    "print(f'Raíz del error cuadrático medio en Test: {rmse_test}')\n",
    "\n",
    "r2_train = r2_score(y_train, y_train_pred)\n",
    "r2_test = r2_score(y_test, y_test_pred)\n",
    "\n",
    "print(f'r2 en Train: {r2_train}')\n",
    "print(f'r2 en Test: {r2_test}')"
   ]
  },
  {
   "cell_type": "code",
   "execution_count": 100,
   "metadata": {},
   "outputs": [
    {
     "name": "stderr",
     "output_type": "stream",
     "text": [
      "/Users/macarenatoledo/opt/miniconda3/envs/datascience/lib/python3.9/site-packages/seaborn/distributions.py:2557: FutureWarning: `distplot` is a deprecated function and will be removed in a future version. Please adapt your code to use either `displot` (a figure-level function with similar flexibility) or `histplot` (an axes-level function for histograms).\n",
      "  warnings.warn(msg, FutureWarning)\n",
      "/Users/macarenatoledo/opt/miniconda3/envs/datascience/lib/python3.9/site-packages/seaborn/distributions.py:2557: FutureWarning: `distplot` is a deprecated function and will be removed in a future version. Please adapt your code to use either `displot` (a figure-level function with similar flexibility) or `histplot` (an axes-level function for histograms).\n",
      "  warnings.warn(msg, FutureWarning)\n"
     ]
    },
    {
     "data": {
      "image/png": "[encoded data removed]",
      "text/plain": [
       "<Figure size 864x432 with 2 Axes>"
      ]
     },
     "metadata": {},
     "output_type": "display_data"
    }
   ],
   "source": [
    "#Gráfico de valores reales vs valores predichos para el Random Forest con hiperparámetros iniciales\n",
    "y_train_pred = rfr.predict(X_train)\n",
    "y_test_pred = rfr.predict(X_test)\n",
    "\n",
    "plt.figure(figsize = (12,6))\n",
    "\n",
    "plt.subplot(1,2,1)\n",
    "sns.distplot(y_train - y_train_pred, bins = 20, label = 'train')\n",
    "sns.distplot(y_test - y_test_pred, bins = 20, label = 'test')\n",
    "plt.xlabel('errores')\n",
    "plt.legend()\n",
    "plt.title('Densidad de errores',fontsize=14)\n",
    "\n",
    "\n",
    "ax = plt.subplot(1,2,2)\n",
    "ax.scatter(y_test,y_test_pred, s =2)\n",
    "    \n",
    "lims = [\n",
    "np.min([ax.get_xlim(), ax.get_ylim()]),\n",
    "np.max([ax.get_xlim(), ax.get_ylim()]),\n",
    "]\n",
    "    \n",
    "ax.plot(lims, lims, 'k-', alpha=0.75, zorder=0)\n",
    "plt.xlabel('y (test)')\n",
    "plt.ylabel('y_pred (test)')\n",
    "plt.title('Valores reales vs predichos',fontsize=14)\n",
    "    \n",
    "plt.tight_layout()\n",
    "plt.show()\n",
    "    \n"
   ]
  },
  {
   "cell_type": "markdown",
   "metadata": {},
   "source": [
    "## validacion cruzada"
   ]
  },
  {
   "cell_type": "code",
   "execution_count": 101,
   "metadata": {},
   "outputs": [],
   "source": [
    "from sklearn.model_selection import cross_val_score\n",
    "from sklearn.model_selection import cross_validate\n"
   ]
  },
  {
   "cell_type": "code",
   "execution_count": 102,
   "metadata": {},
   "outputs": [],
   "source": [
    "# Definición del modelo y la validación cruzada\n",
    "rfr = RandomForestRegressor()\n",
    "rfr_scores = cross_val_score(rfr, X, y, cv=5)"
   ]
  },
  {
   "cell_type": "code",
   "execution_count": 103,
   "metadata": {},
   "outputs": [
    {
     "name": "stdout",
     "output_type": "stream",
     "text": [
      "{'fit_time': array([36.41439772, 37.20085287, 35.75134706, 36.24826288, 33.63332701]), 'score_time': array([0.55435514, 0.53096032, 0.54420924, 0.52321672, 0.49713206]), 'test_score': array([0.85114529, 0.85108484, 0.84470996, 0.79977649, 0.73119914])}\n"
     ]
    }
   ],
   "source": [
    "# Evaluación de la validación cruzada\n",
    "rfr_scores = cross_validate(rfr, X, y, cv=5)\n",
    "print(rfr_scores)"
   ]
  },
  {
   "cell_type": "code",
   "execution_count": 104,
   "metadata": {},
   "outputs": [],
   "source": [
    "# Evaluación del modelo en base a la validación cruzada y la cantidad de estimadores\n",
    "rfr_train_scores_mean = []\n",
    "rfr_train_scores_std = []\n",
    "rfr_test_scores_mean = []\n",
    "rfr_test_scores_std = []\n",
    "\n",
    "estimators = np.arange(1, 50, 1)\n",
    "\n",
    "for estimator in estimators:\n",
    "    rfr = RandomForestRegressor(n_estimators=estimator)\n",
    "    rfr_scores = cross_validate(rfr, X, y, cv=5, return_train_score=True, n_jobs=-1)\n",
    "    \n",
    "    rfr_train_scores_mean.append(rfr_scores['train_score'].mean())\n",
    "    rfr_train_scores_std.append(rfr_scores['train_score'].std())\n",
    "    \n",
    "    rfr_test_scores_mean.append(rfr_scores['test_score'].mean())\n",
    "    rfr_test_scores_std.append(rfr_scores['test_score'].std())\n",
    "\n",
    "rfr_train_scores_mean = np.array(rfr_train_scores_mean)\n",
    "rfr_train_scores_std = np.array(rfr_train_scores_std)\n",
    "rfr_test_scores_mean = np.array(rfr_test_scores_mean)\n",
    "rfr_test_scores_std = np.array(rfr_test_scores_std)"
   ]
  },
  {
   "cell_type": "code",
   "execution_count": 118,
   "metadata": {},
   "outputs": [
    {
     "data": {
      "image/png": "[encoded data removed]",
      "text/plain": [
       "<Figure size 864x576 with 1 Axes>"
      ]
     },
     "metadata": {},
     "output_type": "display_data"
    }
   ],
   "source": [
    "# Gráfico de la evaluación del modelo en base a la validación cruzada y la cantidad de estimadores\n",
    "plt.figure(figsize=(12, 8))\n",
    "plt.fill_between(estimators, rfr_train_scores_mean - rfr_train_scores_std,\n",
    "                 rfr_train_scores_mean + rfr_train_scores_std, alpha=0.1,\n",
    "                 color=\"r\")\n",
    "plt.fill_between(estimators, rfr_test_scores_mean - rfr_test_scores_std,\n",
    "                 rfr_test_scores_mean + rfr_test_scores_std, alpha=0.1, color=\"g\")\n",
    "plt.plot(estimators, rfr_train_scores_mean, 'o-', color=\"r\",\n",
    "         label=\"Training score\")\n",
    "plt.plot(estimators, rfr_test_scores_mean, 'o-', color=\"g\",\n",
    "         label=\"Test score\")\n",
    "plt.legend()\n",
    "plt.ylabel('Accuracy')\n",
    "plt.xlabel('Estimators Random Forest')\n",
    "plt.show()"
   ]
  },
  {
   "cell_type": "markdown",
   "metadata": {},
   "source": [
    "Análisis\n",
    "\n",
    "El número apropiado de estimadores sería 10, debido a que a partir de ese número el coeficiente de determinación parece estabilizarse, es decir que a mayor cantidad de estimadores mayor costo computacional sin una mejora real en el desempeño del modelo"
   ]
  },
  {
   "cell_type": "markdown",
   "metadata": {},
   "source": [
    "## random Search"
   ]
  },
  {
   "cell_type": "code",
   "execution_count": 124,
   "metadata": {},
   "outputs": [],
   "source": [
    "import scipy as sp\n",
    "from sklearn.model_selection import RandomizedSearchCV\n"
   ]
  },
  {
   "cell_type": "code",
   "execution_count": 119,
   "metadata": {},
   "outputs": [],
   "source": [
    "#variables a predecir\n",
    "X = capfed3.drop(['price'],axis=1)\n",
    "y = capfed3.price"
   ]
  },
  {
   "cell_type": "code",
   "execution_count": 120,
   "metadata": {},
   "outputs": [],
   "source": [
    "X_train, X_test, y_train, y_test= train_test_split(X, y, train_size=.7, random_state = 42)"
   ]
  },
  {
   "cell_type": "code",
   "execution_count": 125,
   "metadata": {},
   "outputs": [],
   "source": [
    "# Grilla para Random Search\n",
    "param_dist = {'n_estimators':sp.stats.randint(1, 10),\n",
    "              'criterion': ['mse', 'mae'], \n",
    "              'min_samples_split':[2,3,4],\n",
    "              'min_samples_leaf':[2,3,4]}"
   ]
  },
  {
   "cell_type": "code",
   "execution_count": 127,
   "metadata": {},
   "outputs": [
    {
     "name": "stdout",
     "output_type": "stream",
     "text": [
      "Fitting 5 folds for each of 5 candidates, totalling 25 fits\n"
     ]
    },
    {
     "data": {
      "text/plain": [
       "RandomizedSearchCV(cv=5, estimator=RandomForestRegressor(n_estimators=49),\n",
       "                   n_iter=5, n_jobs=-1,\n",
       "                   param_distributions={'criterion': ['mse', 'mae'],\n",
       "                                        'min_samples_leaf': [2, 3, 4],\n",
       "                                        'min_samples_split': [2, 3, 4],\n",
       "                                        'n_estimators': <scipy.stats._distn_infrastructure.rv_frozen object at 0x7fab99fd6f70>},\n",
       "                   random_state=0, verbose=5)"
      ]
     },
     "execution_count": 127,
     "metadata": {},
     "output_type": "execute_result"
    }
   ],
   "source": [
    "# Definición del random search\n",
    "model = RandomizedSearchCV(rfr, param_dist,n_iter=5, random_state=0, cv=5,n_jobs=-1,verbose=5)\n",
    "\n",
    "#Entrenamiento del random forest con la grilla definida arriba y CV con tamaño de Fold=5\n",
    "model.fit(X_train, y_train)"
   ]
  },
  {
   "cell_type": "code",
   "execution_count": 128,
   "metadata": {},
   "outputs": [
    {
     "name": "stdout",
     "output_type": "stream",
     "text": [
      "Mejores parametros: {'criterion': 'mse', 'min_samples_leaf': 4, 'min_samples_split': 2, 'n_estimators': 9}\n",
      "Mejor Score: 0.8139438022283049\n",
      "\n"
     ]
    },
    {
     "data": {
      "text/html": [
       "<div>\n",
       "<style scoped>\n",
       "    .dataframe tbody tr th:only-of-type {\n",
       "        vertical-align: middle;\n",
       "    }\n",
       "\n",
       "    .dataframe tbody tr th {\n",
       "        vertical-align: top;\n",
       "    }\n",
       "\n",
       "    .dataframe thead th {\n",
       "        text-align: right;\n",
       "    }\n",
       "</style>\n",
       "<table border=\"1\" class=\"dataframe\">\n",
       "  <thead>\n",
       "    <tr style=\"text-align: right;\">\n",
       "      <th></th>\n",
       "      <th>mean_fit_time</th>\n",
       "      <th>std_fit_time</th>\n",
       "      <th>mean_score_time</th>\n",
       "      <th>std_score_time</th>\n",
       "      <th>param_criterion</th>\n",
       "      <th>param_min_samples_leaf</th>\n",
       "      <th>param_min_samples_split</th>\n",
       "      <th>param_n_estimators</th>\n",
       "      <th>params</th>\n",
       "      <th>split0_test_score</th>\n",
       "      <th>split1_test_score</th>\n",
       "      <th>split2_test_score</th>\n",
       "      <th>split3_test_score</th>\n",
       "      <th>split4_test_score</th>\n",
       "      <th>mean_test_score</th>\n",
       "      <th>std_test_score</th>\n",
       "      <th>rank_test_score</th>\n",
       "    </tr>\n",
       "  </thead>\n",
       "  <tbody>\n",
       "    <tr>\n",
       "      <th>0</th>\n",
       "      <td>10.100363</td>\n",
       "      <td>1.172323</td>\n",
       "      <td>0.250233</td>\n",
       "      <td>0.109323</td>\n",
       "      <td>mse</td>\n",
       "      <td>3</td>\n",
       "      <td>2</td>\n",
       "      <td>4</td>\n",
       "      <td>{'criterion': 'mse', 'min_samples_leaf': 3, 'm...</td>\n",
       "      <td>0.795882</td>\n",
       "      <td>0.812243</td>\n",
       "      <td>0.806301</td>\n",
       "      <td>0.810889</td>\n",
       "      <td>0.812613</td>\n",
       "      <td>0.807585</td>\n",
       "      <td>0.006269</td>\n",
       "      <td>3</td>\n",
       "    </tr>\n",
       "    <tr>\n",
       "      <th>1</th>\n",
       "      <td>2024.965828</td>\n",
       "      <td>116.643640</td>\n",
       "      <td>0.116923</td>\n",
       "      <td>0.044088</td>\n",
       "      <td>mae</td>\n",
       "      <td>3</td>\n",
       "      <td>3</td>\n",
       "      <td>3</td>\n",
       "      <td>{'criterion': 'mae', 'min_samples_leaf': 3, 'm...</td>\n",
       "      <td>0.781930</td>\n",
       "      <td>0.791112</td>\n",
       "      <td>0.792122</td>\n",
       "      <td>0.792887</td>\n",
       "      <td>0.801908</td>\n",
       "      <td>0.791992</td>\n",
       "      <td>0.006343</td>\n",
       "      <td>4</td>\n",
       "    </tr>\n",
       "    <tr>\n",
       "      <th>2</th>\n",
       "      <td>6.776115</td>\n",
       "      <td>0.373300</td>\n",
       "      <td>0.092349</td>\n",
       "      <td>0.017541</td>\n",
       "      <td>mse</td>\n",
       "      <td>4</td>\n",
       "      <td>2</td>\n",
       "      <td>9</td>\n",
       "      <td>{'criterion': 'mse', 'min_samples_leaf': 4, 'm...</td>\n",
       "      <td>0.804027</td>\n",
       "      <td>0.818260</td>\n",
       "      <td>0.811052</td>\n",
       "      <td>0.815778</td>\n",
       "      <td>0.820603</td>\n",
       "      <td>0.813944</td>\n",
       "      <td>0.005883</td>\n",
       "      <td>1</td>\n",
       "    </tr>\n",
       "    <tr>\n",
       "      <th>3</th>\n",
       "      <td>5.047874</td>\n",
       "      <td>0.245942</td>\n",
       "      <td>0.065678</td>\n",
       "      <td>0.007251</td>\n",
       "      <td>mse</td>\n",
       "      <td>4</td>\n",
       "      <td>3</td>\n",
       "      <td>7</td>\n",
       "      <td>{'criterion': 'mse', 'min_samples_leaf': 4, 'm...</td>\n",
       "      <td>0.801263</td>\n",
       "      <td>0.816359</td>\n",
       "      <td>0.808443</td>\n",
       "      <td>0.811494</td>\n",
       "      <td>0.819627</td>\n",
       "      <td>0.811437</td>\n",
       "      <td>0.006384</td>\n",
       "      <td>2</td>\n",
       "    </tr>\n",
       "    <tr>\n",
       "      <th>4</th>\n",
       "      <td>1416.839933</td>\n",
       "      <td>272.603530</td>\n",
       "      <td>0.078147</td>\n",
       "      <td>0.037622</td>\n",
       "      <td>mae</td>\n",
       "      <td>4</td>\n",
       "      <td>2</td>\n",
       "      <td>2</td>\n",
       "      <td>{'criterion': 'mae', 'min_samples_leaf': 4, 'm...</td>\n",
       "      <td>0.762858</td>\n",
       "      <td>0.771290</td>\n",
       "      <td>0.771857</td>\n",
       "      <td>0.781178</td>\n",
       "      <td>0.782971</td>\n",
       "      <td>0.774031</td>\n",
       "      <td>0.007322</td>\n",
       "      <td>5</td>\n",
       "    </tr>\n",
       "  </tbody>\n",
       "</table>\n",
       "</div>"
      ],
      "text/plain": [
       "   mean_fit_time  std_fit_time  mean_score_time  std_score_time  \\\n",
       "0      10.100363      1.172323         0.250233        0.109323   \n",
       "1    2024.965828    116.643640         0.116923        0.044088   \n",
       "2       6.776115      0.373300         0.092349        0.017541   \n",
       "3       5.047874      0.245942         0.065678        0.007251   \n",
       "4    1416.839933    272.603530         0.078147        0.037622   \n",
       "\n",
       "  param_criterion param_min_samples_leaf param_min_samples_split  \\\n",
       "0             mse                      3                       2   \n",
       "1             mae                      3                       3   \n",
       "2             mse                      4                       2   \n",
       "3             mse                      4                       3   \n",
       "4             mae                      4                       2   \n",
       "\n",
       "  param_n_estimators                                             params  \\\n",
       "0                  4  {'criterion': 'mse', 'min_samples_leaf': 3, 'm...   \n",
       "1                  3  {'criterion': 'mae', 'min_samples_leaf': 3, 'm...   \n",
       "2                  9  {'criterion': 'mse', 'min_samples_leaf': 4, 'm...   \n",
       "3                  7  {'criterion': 'mse', 'min_samples_leaf': 4, 'm...   \n",
       "4                  2  {'criterion': 'mae', 'min_samples_leaf': 4, 'm...   \n",
       "\n",
       "   split0_test_score  split1_test_score  split2_test_score  split3_test_score  \\\n",
       "0           0.795882           0.812243           0.806301           0.810889   \n",
       "1           0.781930           0.791112           0.792122           0.792887   \n",
       "2           0.804027           0.818260           0.811052           0.815778   \n",
       "3           0.801263           0.816359           0.808443           0.811494   \n",
       "4           0.762858           0.771290           0.771857           0.781178   \n",
       "\n",
       "   split4_test_score  mean_test_score  std_test_score  rank_test_score  \n",
       "0           0.812613         0.807585        0.006269                3  \n",
       "1           0.801908         0.791992        0.006343                4  \n",
       "2           0.820603         0.813944        0.005883                1  \n",
       "3           0.819627         0.811437        0.006384                2  \n",
       "4           0.782971         0.774031        0.007322                5  "
      ]
     },
     "execution_count": 128,
     "metadata": {},
     "output_type": "execute_result"
    }
   ],
   "source": [
    "# Impresión de los mejores parámetros para el modelo de random forest\n",
    "print(\"Mejores parametros: \"+str(model.best_params_))\n",
    "print(\"Mejor Score: \"+str(model.best_score_)+'\\n')\n",
    "\n",
    "scores = pd.DataFrame(model.cv_results_)\n",
    "scores"
   ]
  },
  {
   "cell_type": "code",
   "execution_count": 129,
   "metadata": {},
   "outputs": [
    {
     "name": "stdout",
     "output_type": "stream",
     "text": [
      "Raíz del error cuadrático medio en Train: 29134.893515399795\n",
      "Raíz del error cuadrático medio en Test: 34606.3596944309\n",
      "r2 en Train: 0.8774253508214144\n",
      "r2 en Test: 0.8228486397093764\n"
     ]
    }
   ],
   "source": [
    "#Evaluación del Random Forest con Random Search y Validación Cruzada\n",
    "y_train_pred = model.predict(X_train)\n",
    "y_test_pred = model.predict(X_test)\n",
    "\n",
    "rmse_train = np.sqrt(mean_squared_error(y_train, y_train_pred))\n",
    "rmse_test = np.sqrt(mean_squared_error(y_test, y_test_pred))\n",
    "\n",
    "print(f'Raíz del error cuadrático medio en Train: {rmse_train}')\n",
    "print(f'Raíz del error cuadrático medio en Test: {rmse_test}')\n",
    "\n",
    "r2_train = r2_score(y_train, y_train_pred)\n",
    "r2_test = r2_score(y_test, y_test_pred)\n",
    "\n",
    "print(f'r2 en Train: {r2_train}')\n",
    "print(f'r2 en Test: {r2_test}')"
   ]
  },
  {
   "cell_type": "code",
   "execution_count": 130,
   "metadata": {},
   "outputs": [
    {
     "name": "stderr",
     "output_type": "stream",
     "text": [
      "/Users/macarenatoledo/opt/miniconda3/envs/datascience/lib/python3.9/site-packages/seaborn/distributions.py:2557: FutureWarning: `distplot` is a deprecated function and will be removed in a future version. Please adapt your code to use either `displot` (a figure-level function with similar flexibility) or `histplot` (an axes-level function for histograms).\n",
      "  warnings.warn(msg, FutureWarning)\n",
      "/Users/macarenatoledo/opt/miniconda3/envs/datascience/lib/python3.9/site-packages/seaborn/distributions.py:2557: FutureWarning: `distplot` is a deprecated function and will be removed in a future version. Please adapt your code to use either `displot` (a figure-level function with similar flexibility) or `histplot` (an axes-level function for histograms).\n",
      "  warnings.warn(msg, FutureWarning)\n"
     ]
    },
    {
     "data": {
      "image/png": "[encoded data removed]",
      "text/plain": [
       "<Figure size 864x432 with 2 Axes>"
      ]
     },
     "metadata": {},
     "output_type": "display_data"
    },
    {
     "name": "stdout",
     "output_type": "stream",
     "text": [
      "Modelo: Vecinos más cercanos\n"
     ]
    }
   ],
   "source": [
    "#Gráfico de valores reales vs valores predichos para el Random Forest con hiperparámetros iniciales\n",
    "y_train_pred = model.predict(X_train)\n",
    "y_test_pred = model.predict(X_test)\n",
    "\n",
    "plt.figure(figsize = (12,6))\n",
    "\n",
    "plt.subplot(1,2,1)\n",
    "sns.distplot(y_train - y_train_pred, bins = 20, label = 'train')\n",
    "sns.distplot(y_test - y_test_pred, bins = 20, label = 'test')\n",
    "plt.xlabel('errores')\n",
    "plt.legend()\n",
    "plt.title('Densidad de errores',fontsize=14)\n",
    "\n",
    "\n",
    "ax = plt.subplot(1,2,2)\n",
    "ax.scatter(y_test,y_test_pred, s =2)\n",
    "    \n",
    "lims = [\n",
    "np.min([ax.get_xlim(), ax.get_ylim()]),\n",
    "np.max([ax.get_xlim(), ax.get_ylim()]),\n",
    "]\n",
    "    \n",
    "ax.plot(lims, lims, 'k-', alpha=0.75, zorder=0)\n",
    "plt.xlabel('y (test)')\n",
    "plt.ylabel('y_pred (test)')\n",
    "plt.title('Valores reales vs predichos',fontsize=14)\n",
    "    \n",
    "plt.tight_layout()\n",
    "plt.show()\n"
   ]
  },
  {
   "cell_type": "markdown",
   "metadata": {},
   "source": [
    "## Conclusion Parte B - Modelos\n",
    "\n",
    "Regresion lineal\n",
    "- r2 en Train: 0.7304343503174586\n",
    "- r2 en Test: 0.7296163963433828\n",
    "\n",
    "Arbol de Desicion\n",
    "- r2 en Train: 0.6249660924729574\n",
    "- r2 en Test: 0.6221669245333951\n",
    "\n",
    "KN Neighbours\n",
    "- r2 en Train: 0.8039696410060062\n",
    "- r2 en Test: 0.7844614930714249\n",
    "\n",
    "Regresion lineal avanzada - reg lasso\n",
    "- r2 cuadrático medio en Train: 0.7677110165784733\n",
    "- r2 medio en Test: 0.764818741065109\n",
    "\n",
    "Random Forest\n",
    "- r2 en Train: 0.9372543521399055\n",
    "- r2 en Test: 0.8435638155182659\n",
    "\n",
    "De los 5 modelos realizados el que mejor resultado otorga es el de Random forest"
   ]
  },
  {
   "cell_type": "markdown",
   "metadata": {},
   "source": [
    "# PARTE C - Interpretación de modelos\n",
    "\n",
    "De acuerdo a lo que el modelo permite, responde algunas o todas las siguientes preguntas:"
   ]
  },
  {
   "cell_type": "markdown",
   "metadata": {},
   "source": [
    "- ¿Qué variables fueron relevantes para el modelo para hacer una predicción? ¿Cuáles no?\n",
    "\n",
    "Similar al proyecto anterior, las variables relacionadas con la superficie (surface_total y surface_covered) fueron las más relevantes.\n",
    "\n",
    "Gracias a aplicar los dummies puedo ver que algunos de los barrios como Palermo/Pto Madero/Belgrano tienen relevancia en la prediccion. En cambio los tipos de propiedades no parecen tener mucha capacidad de prediccion (se encuentran en el top15 en importancia de cada variable)\n",
    "\n",
    "- ¿Coincide con lo que esperabas a partir de tu experiencia con este dataset?\n",
    "\n",
    "En general, considero que coincide. La principal inquietud al finalizar el proyecto anterior era la utilización de los barrios como variables. Como se menciona arriba, los barrios parecieran tener algún tipo de influencia en el precio final de la propiedad."
   ]
  },
  {
   "cell_type": "code",
   "execution_count": null,
   "metadata": {},
   "outputs": [],
   "source": []
  }
 ],
 "metadata": {
  "colab": {
   "name": "Parte 2 .ipynb",
   "provenance": []
  },
  "kernelspec": {
   "display_name": "Python 3",
   "language": "python",
   "name": "python3"
  },
  "language_info": {
   "codemirror_mode": {
    "name": "ipython",
    "version": 3
   },
   "file_extension": ".py",
   "mimetype": "text/x-python",
   "name": "python",
   "nbconvert_exporter": "python",
   "pygments_lexer": "ipython3",
   "version": "3.9.1"
  }
 },
 "nbformat": 4,
 "nbformat_minor": 4
}
